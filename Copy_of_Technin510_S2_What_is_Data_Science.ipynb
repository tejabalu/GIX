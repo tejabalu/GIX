{
  "nbformat": 4,
  "nbformat_minor": 0,
  "metadata": {
    "colab": {
      "name": "Copy of Technin510_S2_What_is_Data_Science.ipynb",
      "provenance": [],
      "collapsed_sections": [],
      "include_colab_link": true
    },
    "kernelspec": {
      "name": "python3",
      "display_name": "Python 3"
    },
    "language_info": {
      "name": "python"
    }
  },
  "cells": [
    {
      "cell_type": "markdown",
      "metadata": {
        "id": "view-in-github",
        "colab_type": "text"
      },
      "source": [
        "<a href=\"https://colab.research.google.com/github/tejabalu/udub/blob/master/Copy_of_Technin510_S2_What_is_Data_Science.ipynb\" target=\"_parent\"><img src=\"https://colab.research.google.com/assets/colab-badge.svg\" alt=\"Open In Colab\"/></a>"
      ]
    },
    {
      "cell_type": "markdown",
      "metadata": {
        "id": "sl4y2JiLTzYT"
      },
      "source": [
        "# Technology Innovation 510\n",
        "## Introduction to Data Science Methods: Data Science and Visualization\n",
        "\n",
        "**Instructor**: Wesley Beckner\n",
        "\n",
        "**Contact**: wesleybeckner@gmail.com\n",
        "\n",
        "<br>\n",
        "\n",
        "---\n",
        "\n",
        "<br>\n",
        "\n",
        "Today, we'll be continuing our discussion of AI/DS/ML with our part II: Data Science (and a focus in Visualization)🎉\n",
        "\n",
        "<br>\n",
        "\n",
        "---"
      ]
    },
    {
      "cell_type": "markdown",
      "metadata": {
        "id": "rnWtOjUQiqih"
      },
      "source": [
        "# Preparing Notebook for Demos"
      ]
    },
    {
      "cell_type": "markdown",
      "metadata": {
        "id": "5OepOcSli8at"
      },
      "source": [
        "## Importing Packages\n",
        "\n",
        "Once we have our packages installed, we need to import them. We can also import packages that are pre-installed in the Colab environment."
      ]
    },
    {
      "cell_type": "code",
      "metadata": {
        "id": "Hm_Z7duTp_d8"
      },
      "source": [
        "import numpy as np\n",
        "import random\n",
        "import pandas as pd\n",
        "import matplotlib.pyplot as plt\n",
        "from sklearn.linear_model import LinearRegression\n",
        "import seaborn as sns\n",
        "pd.options.display.max_rows = 999\n",
        "pd.set_option('display.max_colwidth', None) #expand the column\n",
        "sns.set() #set default seaborn theme"
      ],
      "execution_count": null,
      "outputs": []
    },
    {
      "cell_type": "markdown",
      "metadata": {
        "id": "1obzmHRDjY4j"
      },
      "source": [
        "## Importing Data\n",
        "\n",
        "We also have the ability to import data, and use it elsewhere in the notebook 📝!"
      ]
    },
    {
      "cell_type": "code",
      "metadata": {
        "id": "cKAUwmT6-vJr",
        "colab": {
          "base_uri": "https://localhost:8080/"
        },
        "outputId": "091eae30-4dc6-40a8-8670-1d85d2cedd07"
      },
      "source": [
        "df = pd.read_csv(\"https://raw.githubusercontent.com/wesleybeckner/\"\\\n",
        "  \"technology_explorers/main/assets/imdb_movies.csv\")\n",
        "\n",
        "# converting years to numbers for easy conditionals\n",
        "df['year'] = pd.to_numeric(df['year'], errors='coerce')\n",
        "# df.head(5)"
      ],
      "execution_count": null,
      "outputs": [
        {
          "output_type": "stream",
          "name": "stderr",
          "text": [
            "/usr/local/lib/python3.7/dist-packages/IPython/core/interactiveshell.py:2718: DtypeWarning: Columns (3) have mixed types.Specify dtype option on import or set low_memory=False.\n",
            "  interactivity=interactivity, compiler=compiler, result=result)\n"
          ]
        }
      ]
    },
    {
      "cell_type": "markdown",
      "metadata": {
        "id": "Xk0ji8ayXRQd"
      },
      "source": [
        "## 📊 What is Data Science?"
      ]
    },
    {
      "cell_type": "markdown",
      "metadata": {
        "id": "lHZCU3BXo77Q"
      },
      "source": [
        "### The Emergence of Data Science\n",
        "\n",
        "Data Science is a broad field, and depending on who you talk to, it can mean different things. In summary, many independent scientific fields began accumulating large amounts of data. At the UW in particular, these were dominated by the astronomy and oceanography departments. Folks began to realize that they needed a particular set of tools to handle large amounts of data. This culminated in the [eScience studio](https://escience.washington.edu/), which began to service the data needs of many departments on campus.\n",
        "\n",
        "Today, data science not only has to do with large amounts of data, but refers generally to tools that allow us to work with a variety of data types. Because of this, machine learning is a tool within data science. But there are other tools apart from machine learning that make up the data science ecosystem. Some of them are:\n",
        "\n",
        "* data visualization\n",
        "* databases \n",
        "* statistics\n",
        "\n",
        "You could argue for others as well (algorithms, web servers, programming, etc.), but these are the formally accepted areas. We can borrow from Drew Conway's Data Science Venn Diagram, first published on his blog in September 2010, to make further sense of this:\n",
        "\n",
        "<p align=\"center\">\n",
        "<img src=\"https://jakevdp.github.io/PythonDataScienceHandbook/figures/Data_Science_VD.png\"></img>"
      ]
    },
    {
      "cell_type": "markdown",
      "metadata": {
        "id": "OCkrbfnuYHiE"
      },
      "source": [
        "#### 💭 1\n",
        "\n",
        "Let's see if we can converge on a definition of Data Science. Talk to your neighbor, convene together, then let's share. Do this at 2 different levels:\n",
        "\n",
        "How would you explain Data Science to:\n",
        "1. your grandmother\n",
        "2. a young professional\n",
        "\n",
        "You may find these articles useful:\n",
        "\n",
        "* from Oracle\n",
        "    * [A business pov on DS](https://www.oracle.com/data-science/what-is-data-science/)\n",
        "\n",
        "    * [An implementation pov on DS](https://www.oracle.com/a/ocom/docs/data-science-lifecycle-ebook.pdf)\n",
        "\n",
        "* a more technical *cough* better *cough* discussion on DS from Software Carpentry:\n",
        "    * [A research pov on DS](https://software-carpentry.org/blog/2017/12/assessing-data-science.html)\n",
        "    * [The minues from that meeting](https://github.com/carpentries/assessment/blob/main/assessment-network/minutes/2017-11-15.md)"
      ]
    },
    {
      "cell_type": "markdown",
      "metadata": {
        "id": "-pCx4S8fowgd"
      },
      "source": [
        "#### 💬 1\n",
        "\n",
        "I'll write these down, let's see if we can all agree on a precise definition"
      ]
    },
    {
      "cell_type": "markdown",
      "metadata": {
        "id": "xXiohvhyPwBa"
      },
      "source": [
        "### Saying Stuff About Data (Statistics)\n",
        "\n",
        "When we're talking about statistics, we're really talking about data story telling. Statistics is at the C O R E of data science, really. Without a basic knowledge of statistics it'll be hard for you to construct your data narratives and have them hold water. \n",
        "\n",
        "Let's start with some simple examples of data story telling, and use these to generate our own thoughts on the matter."
      ]
    },
    {
      "cell_type": "markdown",
      "metadata": {
        "id": "cdtDxSaPQHzO"
      },
      "source": [
        "#### Anscombe's Quartet\n",
        "\n",
        "There's a very famous anomaly in DS caled Anscombe's quartet. Observe the following data\n",
        "\n",
        "<p align=center>\n",
        "<img src=\"https://raw.githubusercontent.com/wesleybeckner/technology_explorers/main/assets/data_science/ds1.png\"></img>\n",
        "\n",
        "We can construct this in python and confirm the summary statistics ourselves"
      ]
    },
    {
      "cell_type": "code",
      "metadata": {
        "colab": {
          "base_uri": "https://localhost:8080/",
          "height": 424
        },
        "id": "0VPpRKIoQu-e",
        "outputId": "17dffafd-49ee-480e-de6f-372cce4ea092"
      },
      "source": [
        "df = pd.read_excel(\"https://github.com/wesleybeckner/technology_explorers/blob\"\\\n",
        "                   \"/main/assets/data_science/anscombes.xlsx?raw=true\",\n",
        "              header=[0,1]) #header represents the number of headers the table has\n",
        "df"
      ],
      "execution_count": null,
      "outputs": [
        {
          "output_type": "execute_result",
          "data": {
            "text/html": [
              "<div>\n",
              "<style scoped>\n",
              "    .dataframe tbody tr th:only-of-type {\n",
              "        vertical-align: middle;\n",
              "    }\n",
              "\n",
              "    .dataframe tbody tr th {\n",
              "        vertical-align: top;\n",
              "    }\n",
              "\n",
              "    .dataframe thead tr th {\n",
              "        text-align: left;\n",
              "    }\n",
              "</style>\n",
              "<table border=\"1\" class=\"dataframe\">\n",
              "  <thead>\n",
              "    <tr>\n",
              "      <th></th>\n",
              "      <th colspan=\"2\" halign=\"left\">I</th>\n",
              "      <th colspan=\"2\" halign=\"left\">II</th>\n",
              "      <th colspan=\"2\" halign=\"left\">III</th>\n",
              "      <th colspan=\"2\" halign=\"left\">IV</th>\n",
              "    </tr>\n",
              "    <tr>\n",
              "      <th></th>\n",
              "      <th>X</th>\n",
              "      <th>Y</th>\n",
              "      <th>X</th>\n",
              "      <th>Y</th>\n",
              "      <th>X</th>\n",
              "      <th>Y</th>\n",
              "      <th>X</th>\n",
              "      <th>Y</th>\n",
              "    </tr>\n",
              "  </thead>\n",
              "  <tbody>\n",
              "    <tr>\n",
              "      <th>0</th>\n",
              "      <td>10</td>\n",
              "      <td>8.04</td>\n",
              "      <td>10</td>\n",
              "      <td>9.14</td>\n",
              "      <td>10</td>\n",
              "      <td>7.46</td>\n",
              "      <td>8</td>\n",
              "      <td>6.58</td>\n",
              "    </tr>\n",
              "    <tr>\n",
              "      <th>1</th>\n",
              "      <td>8</td>\n",
              "      <td>6.95</td>\n",
              "      <td>8</td>\n",
              "      <td>8.14</td>\n",
              "      <td>8</td>\n",
              "      <td>6.77</td>\n",
              "      <td>8</td>\n",
              "      <td>5.76</td>\n",
              "    </tr>\n",
              "    <tr>\n",
              "      <th>2</th>\n",
              "      <td>13</td>\n",
              "      <td>7.58</td>\n",
              "      <td>13</td>\n",
              "      <td>8.74</td>\n",
              "      <td>13</td>\n",
              "      <td>12.74</td>\n",
              "      <td>8</td>\n",
              "      <td>7.71</td>\n",
              "    </tr>\n",
              "    <tr>\n",
              "      <th>3</th>\n",
              "      <td>9</td>\n",
              "      <td>8.81</td>\n",
              "      <td>9</td>\n",
              "      <td>8.77</td>\n",
              "      <td>9</td>\n",
              "      <td>7.11</td>\n",
              "      <td>8</td>\n",
              "      <td>8.84</td>\n",
              "    </tr>\n",
              "    <tr>\n",
              "      <th>4</th>\n",
              "      <td>11</td>\n",
              "      <td>8.33</td>\n",
              "      <td>11</td>\n",
              "      <td>9.26</td>\n",
              "      <td>11</td>\n",
              "      <td>7.81</td>\n",
              "      <td>8</td>\n",
              "      <td>8.47</td>\n",
              "    </tr>\n",
              "    <tr>\n",
              "      <th>5</th>\n",
              "      <td>14</td>\n",
              "      <td>9.96</td>\n",
              "      <td>14</td>\n",
              "      <td>8.10</td>\n",
              "      <td>14</td>\n",
              "      <td>8.84</td>\n",
              "      <td>8</td>\n",
              "      <td>7.04</td>\n",
              "    </tr>\n",
              "    <tr>\n",
              "      <th>6</th>\n",
              "      <td>6</td>\n",
              "      <td>7.24</td>\n",
              "      <td>6</td>\n",
              "      <td>6.13</td>\n",
              "      <td>6</td>\n",
              "      <td>6.08</td>\n",
              "      <td>8</td>\n",
              "      <td>5.25</td>\n",
              "    </tr>\n",
              "    <tr>\n",
              "      <th>7</th>\n",
              "      <td>4</td>\n",
              "      <td>4.26</td>\n",
              "      <td>4</td>\n",
              "      <td>3.10</td>\n",
              "      <td>4</td>\n",
              "      <td>5.39</td>\n",
              "      <td>19</td>\n",
              "      <td>12.50</td>\n",
              "    </tr>\n",
              "    <tr>\n",
              "      <th>8</th>\n",
              "      <td>12</td>\n",
              "      <td>10.84</td>\n",
              "      <td>12</td>\n",
              "      <td>9.13</td>\n",
              "      <td>12</td>\n",
              "      <td>8.15</td>\n",
              "      <td>8</td>\n",
              "      <td>5.56</td>\n",
              "    </tr>\n",
              "    <tr>\n",
              "      <th>9</th>\n",
              "      <td>7</td>\n",
              "      <td>4.82</td>\n",
              "      <td>7</td>\n",
              "      <td>7.26</td>\n",
              "      <td>7</td>\n",
              "      <td>6.42</td>\n",
              "      <td>8</td>\n",
              "      <td>7.91</td>\n",
              "    </tr>\n",
              "    <tr>\n",
              "      <th>10</th>\n",
              "      <td>5</td>\n",
              "      <td>5.68</td>\n",
              "      <td>5</td>\n",
              "      <td>4.74</td>\n",
              "      <td>5</td>\n",
              "      <td>5.73</td>\n",
              "      <td>8</td>\n",
              "      <td>6.89</td>\n",
              "    </tr>\n",
              "  </tbody>\n",
              "</table>\n",
              "</div>"
            ],
            "text/plain": [
              "     I         II       III         IV       \n",
              "     X      Y   X     Y   X      Y   X      Y\n",
              "0   10   8.04  10  9.14  10   7.46   8   6.58\n",
              "1    8   6.95   8  8.14   8   6.77   8   5.76\n",
              "2   13   7.58  13  8.74  13  12.74   8   7.71\n",
              "3    9   8.81   9  8.77   9   7.11   8   8.84\n",
              "4   11   8.33  11  9.26  11   7.81   8   8.47\n",
              "5   14   9.96  14  8.10  14   8.84   8   7.04\n",
              "6    6   7.24   6  6.13   6   6.08   8   5.25\n",
              "7    4   4.26   4  3.10   4   5.39  19  12.50\n",
              "8   12  10.84  12  9.13  12   8.15   8   5.56\n",
              "9    7   4.82   7  7.26   7   6.42   8   7.91\n",
              "10   5   5.68   5  4.74   5   5.73   8   6.89"
            ]
          },
          "metadata": {},
          "execution_count": 151
        }
      ]
    },
    {
      "cell_type": "code",
      "metadata": {
        "colab": {
          "base_uri": "https://localhost:8080/",
          "height": 424
        },
        "id": "3uYu5-YLH_Gk",
        "outputId": "2640993e-4e6e-4dc4-8877-f9b4056213f7"
      },
      "source": [
        "df.reindex()"
      ],
      "execution_count": null,
      "outputs": [
        {
          "output_type": "execute_result",
          "data": {
            "text/html": [
              "<div>\n",
              "<style scoped>\n",
              "    .dataframe tbody tr th:only-of-type {\n",
              "        vertical-align: middle;\n",
              "    }\n",
              "\n",
              "    .dataframe tbody tr th {\n",
              "        vertical-align: top;\n",
              "    }\n",
              "\n",
              "    .dataframe thead tr th {\n",
              "        text-align: left;\n",
              "    }\n",
              "</style>\n",
              "<table border=\"1\" class=\"dataframe\">\n",
              "  <thead>\n",
              "    <tr>\n",
              "      <th></th>\n",
              "      <th colspan=\"2\" halign=\"left\">I</th>\n",
              "      <th colspan=\"2\" halign=\"left\">II</th>\n",
              "      <th colspan=\"2\" halign=\"left\">III</th>\n",
              "      <th colspan=\"2\" halign=\"left\">IV</th>\n",
              "    </tr>\n",
              "    <tr>\n",
              "      <th></th>\n",
              "      <th>X</th>\n",
              "      <th>Y</th>\n",
              "      <th>X</th>\n",
              "      <th>Y</th>\n",
              "      <th>X</th>\n",
              "      <th>Y</th>\n",
              "      <th>X</th>\n",
              "      <th>Y</th>\n",
              "    </tr>\n",
              "  </thead>\n",
              "  <tbody>\n",
              "    <tr>\n",
              "      <th>0</th>\n",
              "      <td>10</td>\n",
              "      <td>8.04</td>\n",
              "      <td>10</td>\n",
              "      <td>9.14</td>\n",
              "      <td>10</td>\n",
              "      <td>7.46</td>\n",
              "      <td>8</td>\n",
              "      <td>6.58</td>\n",
              "    </tr>\n",
              "    <tr>\n",
              "      <th>1</th>\n",
              "      <td>8</td>\n",
              "      <td>6.95</td>\n",
              "      <td>8</td>\n",
              "      <td>8.14</td>\n",
              "      <td>8</td>\n",
              "      <td>6.77</td>\n",
              "      <td>8</td>\n",
              "      <td>5.76</td>\n",
              "    </tr>\n",
              "    <tr>\n",
              "      <th>2</th>\n",
              "      <td>13</td>\n",
              "      <td>7.58</td>\n",
              "      <td>13</td>\n",
              "      <td>8.74</td>\n",
              "      <td>13</td>\n",
              "      <td>12.74</td>\n",
              "      <td>8</td>\n",
              "      <td>7.71</td>\n",
              "    </tr>\n",
              "    <tr>\n",
              "      <th>3</th>\n",
              "      <td>9</td>\n",
              "      <td>8.81</td>\n",
              "      <td>9</td>\n",
              "      <td>8.77</td>\n",
              "      <td>9</td>\n",
              "      <td>7.11</td>\n",
              "      <td>8</td>\n",
              "      <td>8.84</td>\n",
              "    </tr>\n",
              "    <tr>\n",
              "      <th>4</th>\n",
              "      <td>11</td>\n",
              "      <td>8.33</td>\n",
              "      <td>11</td>\n",
              "      <td>9.26</td>\n",
              "      <td>11</td>\n",
              "      <td>7.81</td>\n",
              "      <td>8</td>\n",
              "      <td>8.47</td>\n",
              "    </tr>\n",
              "    <tr>\n",
              "      <th>5</th>\n",
              "      <td>14</td>\n",
              "      <td>9.96</td>\n",
              "      <td>14</td>\n",
              "      <td>8.10</td>\n",
              "      <td>14</td>\n",
              "      <td>8.84</td>\n",
              "      <td>8</td>\n",
              "      <td>7.04</td>\n",
              "    </tr>\n",
              "    <tr>\n",
              "      <th>6</th>\n",
              "      <td>6</td>\n",
              "      <td>7.24</td>\n",
              "      <td>6</td>\n",
              "      <td>6.13</td>\n",
              "      <td>6</td>\n",
              "      <td>6.08</td>\n",
              "      <td>8</td>\n",
              "      <td>5.25</td>\n",
              "    </tr>\n",
              "    <tr>\n",
              "      <th>7</th>\n",
              "      <td>4</td>\n",
              "      <td>4.26</td>\n",
              "      <td>4</td>\n",
              "      <td>3.10</td>\n",
              "      <td>4</td>\n",
              "      <td>5.39</td>\n",
              "      <td>19</td>\n",
              "      <td>12.50</td>\n",
              "    </tr>\n",
              "    <tr>\n",
              "      <th>8</th>\n",
              "      <td>12</td>\n",
              "      <td>10.84</td>\n",
              "      <td>12</td>\n",
              "      <td>9.13</td>\n",
              "      <td>12</td>\n",
              "      <td>8.15</td>\n",
              "      <td>8</td>\n",
              "      <td>5.56</td>\n",
              "    </tr>\n",
              "    <tr>\n",
              "      <th>9</th>\n",
              "      <td>7</td>\n",
              "      <td>4.82</td>\n",
              "      <td>7</td>\n",
              "      <td>7.26</td>\n",
              "      <td>7</td>\n",
              "      <td>6.42</td>\n",
              "      <td>8</td>\n",
              "      <td>7.91</td>\n",
              "    </tr>\n",
              "    <tr>\n",
              "      <th>10</th>\n",
              "      <td>5</td>\n",
              "      <td>5.68</td>\n",
              "      <td>5</td>\n",
              "      <td>4.74</td>\n",
              "      <td>5</td>\n",
              "      <td>5.73</td>\n",
              "      <td>8</td>\n",
              "      <td>6.89</td>\n",
              "    </tr>\n",
              "  </tbody>\n",
              "</table>\n",
              "</div>"
            ],
            "text/plain": [
              "     I         II       III         IV       \n",
              "     X      Y   X     Y   X      Y   X      Y\n",
              "0   10   8.04  10  9.14  10   7.46   8   6.58\n",
              "1    8   6.95   8  8.14   8   6.77   8   5.76\n",
              "2   13   7.58  13  8.74  13  12.74   8   7.71\n",
              "3    9   8.81   9  8.77   9   7.11   8   8.84\n",
              "4   11   8.33  11  9.26  11   7.81   8   8.47\n",
              "5   14   9.96  14  8.10  14   8.84   8   7.04\n",
              "6    6   7.24   6  6.13   6   6.08   8   5.25\n",
              "7    4   4.26   4  3.10   4   5.39  19  12.50\n",
              "8   12  10.84  12  9.13  12   8.15   8   5.56\n",
              "9    7   4.82   7  7.26   7   6.42   8   7.91\n",
              "10   5   5.68   5  4.74   5   5.73   8   6.89"
            ]
          },
          "metadata": {},
          "execution_count": 152
        }
      ]
    },
    {
      "cell_type": "code",
      "metadata": {
        "colab": {
          "base_uri": "https://localhost:8080/"
        },
        "id": "2Te8i-lVKS-6",
        "outputId": "c40af036-2870-420c-ffe5-c35daa892a87"
      },
      "source": [
        "df.loc[0].value_counts()"
      ],
      "execution_count": null,
      "outputs": [
        {
          "output_type": "execute_result",
          "data": {
            "text/plain": [
              "10.00    3\n",
              "9.14     1\n",
              "6.58     1\n",
              "8.00     1\n",
              "7.46     1\n",
              "8.04     1\n",
              "Name: 0, dtype: int64"
            ]
          },
          "metadata": {},
          "execution_count": 153
        }
      ]
    },
    {
      "cell_type": "markdown",
      "metadata": {
        "id": "OZkzcLcUSziz"
      },
      "source": [
        "We can calculate the mean/variance of X and Y for samples I, II, III, and IV"
      ]
    },
    {
      "cell_type": "code",
      "metadata": {
        "colab": {
          "base_uri": "https://localhost:8080/"
        },
        "id": "6qNPqSaZ4OVx",
        "outputId": "fd091854-405f-41e9-e8aa-d272bebe1139"
      },
      "source": [
        "df.shape[0]"
      ],
      "execution_count": null,
      "outputs": [
        {
          "output_type": "execute_result",
          "data": {
            "text/plain": [
              "11"
            ]
          },
          "metadata": {},
          "execution_count": 154
        }
      ]
    },
    {
      "cell_type": "code",
      "metadata": {
        "colab": {
          "base_uri": "https://localhost:8080/"
        },
        "id": "2zU2fCOVSr2W",
        "outputId": "a2129f07-c18a-41d8-82f1-92da9a2d9b26"
      },
      "source": [
        "df.mean(axis=0)"
      ],
      "execution_count": null,
      "outputs": [
        {
          "output_type": "execute_result",
          "data": {
            "text/plain": [
              "I    X    9.000000\n",
              "     Y    7.500909\n",
              "II   X    9.000000\n",
              "     Y    7.500909\n",
              "III  X    9.000000\n",
              "     Y    7.500000\n",
              "IV   X    9.000000\n",
              "     Y    7.500909\n",
              "dtype: float64"
            ]
          },
          "metadata": {},
          "execution_count": 155
        }
      ]
    },
    {
      "cell_type": "code",
      "metadata": {
        "colab": {
          "base_uri": "https://localhost:8080/"
        },
        "id": "mcB8XuNhS8ID",
        "outputId": "8f630a4b-666a-4135-e5c3-7fafbbfe0644"
      },
      "source": [
        "# do we remember the relationship between standard deviation and variance?\n",
        "df.std(axis=0)**2 #variance = sq of std dev"
      ],
      "execution_count": null,
      "outputs": [
        {
          "output_type": "execute_result",
          "data": {
            "text/plain": [
              "I    X    11.000000\n",
              "     Y     4.127269\n",
              "II   X    11.000000\n",
              "     Y     4.127629\n",
              "III  X    11.000000\n",
              "     Y     4.122620\n",
              "IV   X    11.000000\n",
              "     Y     4.123249\n",
              "dtype: float64"
            ]
          },
          "metadata": {},
          "execution_count": 156
        }
      ]
    },
    {
      "cell_type": "markdown",
      "metadata": {
        "id": "Aj-AiqCBW5zi"
      },
      "source": [
        "For the line of best fit, recall the equation for a linear relationship between x and y:\n",
        "\n",
        "$$y(x)= m\\cdot x + b$$ "
      ]
    },
    {
      "cell_type": "code",
      "metadata": {
        "colab": {
          "base_uri": "https://localhost:8080/"
        },
        "id": "dEXnJCsQ0i6Q",
        "outputId": "11173064-0d5a-4881-953d-a85df782407d"
      },
      "source": [
        "df.loc[0]\n",
        "df.iloc[0]\n",
        "# iloc gets rows with particular int positions, while loc gets pos with lables."
      ],
      "execution_count": null,
      "outputs": [
        {
          "output_type": "execute_result",
          "data": {
            "text/plain": [
              "I    X    10.00\n",
              "     Y     8.04\n",
              "II   X    10.00\n",
              "     Y     9.14\n",
              "III  X    10.00\n",
              "     Y     7.46\n",
              "IV   X     8.00\n",
              "     Y     6.58\n",
              "Name: 0, dtype: float64"
            ]
          },
          "metadata": {},
          "execution_count": 157
        }
      ]
    },
    {
      "cell_type": "code",
      "metadata": {
        "colab": {
          "base_uri": "https://localhost:8080/"
        },
        "id": "6q0TnWkYLllW",
        "outputId": "113beecd-8920-4222-da49-bc17fcad56f5"
      },
      "source": [
        "sets = ['I', 'II', 'III', 'IV']\n",
        "for i in sets:\n",
        "  y = LinearRegression().fit(df[i]['X'].values.reshape(df.shape[0], 1), df[i]['Y'])\n",
        "  print(df[i]['X'].values.reshape(11,1))\n",
        "\n",
        "\n",
        "\n",
        "\n",
        "\n",
        "\n",
        "\n",
        "\n",
        "\n",
        "\n",
        "\n",
        "\n",
        "\n",
        "\n",
        "\n",
        "\n",
        "\n",
        "\n",
        "\n",
        "\n",
        "\n",
        "\n",
        "\n",
        "\n",
        "\n"
      ],
      "execution_count": null,
      "outputs": [
        {
          "output_type": "stream",
          "name": "stdout",
          "text": [
            "[[10]\n",
            " [ 8]\n",
            " [13]\n",
            " [ 9]\n",
            " [11]\n",
            " [14]\n",
            " [ 6]\n",
            " [ 4]\n",
            " [12]\n",
            " [ 7]\n",
            " [ 5]]\n",
            "[[10]\n",
            " [ 8]\n",
            " [13]\n",
            " [ 9]\n",
            " [11]\n",
            " [14]\n",
            " [ 6]\n",
            " [ 4]\n",
            " [12]\n",
            " [ 7]\n",
            " [ 5]]\n",
            "[[10]\n",
            " [ 8]\n",
            " [13]\n",
            " [ 9]\n",
            " [11]\n",
            " [14]\n",
            " [ 6]\n",
            " [ 4]\n",
            " [12]\n",
            " [ 7]\n",
            " [ 5]]\n",
            "[[ 8]\n",
            " [ 8]\n",
            " [ 8]\n",
            " [ 8]\n",
            " [ 8]\n",
            " [ 8]\n",
            " [ 8]\n",
            " [19]\n",
            " [ 8]\n",
            " [ 8]\n",
            " [ 8]]\n"
          ]
        }
      ]
    },
    {
      "cell_type": "code",
      "metadata": {
        "colab": {
          "base_uri": "https://localhost:8080/"
        },
        "id": "b5OThMch2gB2",
        "outputId": "1775fa7e-6884-4102-e84d-816f843b7721"
      },
      "source": [
        "sets =[\"I\", \"II\", \"III\", \"IV\"]\n",
        "\n",
        "for i in sets:\n",
        "  y = LinearRegression().fit(df[i]['X'].values.reshape(df.shape[0], 1), df[i]['Y'])\n",
        "  # print(y.coef_[0], y.intercept_)\n",
        "  print(\"linear regression line {:.3f}X+{:.2f}\".format(y.coef_[0], y.intercept_))"
      ],
      "execution_count": null,
      "outputs": [
        {
          "output_type": "stream",
          "name": "stdout",
          "text": [
            "linear regression line 0.500X+3.00\n",
            "linear regression line 0.500X+3.00\n",
            "linear regression line 0.500X+3.00\n",
            "linear regression line 0.500X+3.00\n"
          ]
        }
      ]
    },
    {
      "cell_type": "code",
      "metadata": {
        "id": "bNkEyZcrT4Gc"
      },
      "source": [
        "# model = LinearRegression()\n",
        "# sets = ['I', 'II', 'III', 'IV']\n",
        "# for data in sets:\n",
        "#   model.fit(df[data]['X'].values.reshape(11,1),\n",
        "#             df[data]['Y'])\n",
        "#   print(\"Linear Regression Line: Y = {:.2f}X + {:.2f}\".format(model.coef_[0], model.intercept_))"
      ],
      "execution_count": null,
      "outputs": []
    },
    {
      "cell_type": "markdown",
      "metadata": {
        "id": "L741u6hwX7KL"
      },
      "source": [
        "$R^2$ measures the goodness of fit. $R^2$ is generally defined as the ratio of the total sum of squares $SS_{\\sf tot} $ to the residual sum of squares $SS_{\\sf res} $:\n",
        "\n",
        "The Residual Sum of Squares is defined as:\n",
        "\n",
        "$$SS_{\\sf res}=\\sum_{i=1}^{N} \\left(y^{\\sf exact}_i - y^{\\sf calc}_i\\right)^2$$\n",
        "\n",
        "We now define the total sum of squares, a measure of the total variance in the data:\n",
        "\n",
        "$$SS_{\\sf tot}=\\sum_{i=1}^{N} \\left(y^{\\sf exact}_i-\\bar{y}\\right)^2$$\n",
        "\n",
        "The $R^2$ tells us how much of the variance of the data, is captured by the model we created:\n",
        "\n",
        "$$R^2 = 1 - {SS_{\\sf res}\\over SS_{\\sf tot}}$$\n",
        "\n",
        "In the first equation, $\\bar{y}=\\sum_i y^{\\sf exact}_i/N$ is the average value of y for $N$ points. The best value of $R^2$ is 1 but it can also take a negative value if the error is large."
      ]
    },
    {
      "cell_type": "code",
      "metadata": {
        "colab": {
          "base_uri": "https://localhost:8080/"
        },
        "id": "fm49asKz6WxU",
        "outputId": "bddea7f0-7e77-4876-a9b3-ad396c989f1d"
      },
      "source": [
        "for i in sets:\n",
        "  # ssr\n",
        "  ssr = np.sum((df[i]['Y'] - y.predict(df[i]['X'].values.reshape(-1,1)))**2)\n",
        "  print((\"{:.2f}\").format(ssr))\n",
        "  sst = np.sum((df[i]['Y']-df[i]['Y'].mean())**2)\n",
        "  r2 = 1 - (ssr/sst)\n",
        "  print (\"{:.2f}\".format(r2))"
      ],
      "execution_count": null,
      "outputs": [
        {
          "output_type": "stream",
          "name": "stdout",
          "text": [
            "13.76\n",
            "0.67\n",
            "13.78\n",
            "0.67\n",
            "13.76\n",
            "0.67\n",
            "13.74\n",
            "0.67\n"
          ]
        }
      ]
    },
    {
      "cell_type": "code",
      "metadata": {
        "id": "sVQboxuSaFT1"
      },
      "source": [
        "# for data in sets:\n",
        "#   # calc the ssr\n",
        "#   ssr = np.sum((df[data]['Y'] - \n",
        "#                 model.predict(df[data]['X'].values.reshape(-1,1)))**2)\n",
        "#   print(ssr)\n",
        "#   # calc the sst\n",
        "#   sst = np.sum((df[data]['Y'] - \n",
        "#                 df[data]['Y'].mean())**2)\n",
        "\n",
        "#   # calc the r2\n",
        "#   r2 = 1 - (ssr/sst)\n",
        "#   print(\"R2 = {:.2f}\".format(r2))\n",
        "\n",
        "# df"
      ],
      "execution_count": null,
      "outputs": []
    },
    {
      "cell_type": "markdown",
      "metadata": {
        "id": "KafBcwpNdSEw"
      },
      "source": [
        "As we can see, everything checks out. The summary statistics are all the same!\n",
        "\n",
        "Can we answer the following:\n",
        "\n",
        "> What dataset is best described by the line of best fit?\n",
        "\n",
        "We will revisit this question when we talk about data visualization"
      ]
    },
    {
      "cell_type": "markdown",
      "metadata": {
        "id": "JmVKaUHeQNTJ"
      },
      "source": [
        "#### Taxonomy of Data Types\n",
        "\n",
        "Another important topic in data science, is simply what kind of data we are working with. This will help us decide what kind of models to build, as well as how to visualize our data, and perhaps store it as well.\n",
        "\n",
        "<p align=center>\n",
        "<img src=\"https://raw.githubusercontent.com/wesleybeckner/technology_explorers/main/assets/data_science/ds2.png\"></img>"
      ]
    },
    {
      "cell_type": "markdown",
      "metadata": {
        "id": "sJ8lgxbVfHRv"
      },
      "source": [
        "#### 💬 2\n",
        "\n",
        "What are some examples of the different datatypes we can think of?"
      ]
    },
    {
      "cell_type": "markdown",
      "metadata": {
        "id": "SQhxLuHuq2Sm"
      },
      "source": [
        "### Data Visualization\n",
        "\n",
        "Data visualization, like it sounds, has to do with how we display and communicate information. At the end of the day, your findings and algorithms aren't worth very much if we can't share them with others. One of the leading thinkers in the visual display of information is Edward Tufte\n",
        "* [Tufte's Principles](https://thedoublethink.com/tuftes-principles-for-visualizing-quantitative-information/)\n",
        "* [Data-ink](https://infovis-wiki.net/wiki/Data-Ink_Ratio)\n",
        "* [Wiki](https://en.wikipedia.org/wiki/Edward_Tufte)"
      ]
    },
    {
      "cell_type": "markdown",
      "metadata": {
        "id": "p9VXfFAJRECE"
      },
      "source": [
        "#### Guiding Principles of Data Visualization\n",
        "\n",
        "<p align=center>\n",
        "<img src=\"https://raw.githubusercontent.com/wesleybeckner/technology_explorers/main/assets/data_science/ds3.png\"></img>\n",
        "\n",
        "<p align=center>\n",
        "<img src=\"https://raw.githubusercontent.com/wesleybeckner/technology_explorers/main/assets/data_science/ds9.gif\"></img>"
      ]
    },
    {
      "cell_type": "markdown",
      "metadata": {
        "id": "saUzXulrZcSJ"
      },
      "source": [
        "Another topic Tufte discusses is Data Density. Apart from ink, we should also consider the entire area dedicated to the graphic. That area should be as condensed as possible without removing ledgibility/readability."
      ]
    },
    {
      "cell_type": "markdown",
      "metadata": {
        "id": "7SNbgmyL9mS9"
      },
      "source": [
        "\n",
        "<p align=center>\n",
        "<img src=\"https://raw.githubusercontent.com/wesleybeckner/technology_explorers/main/assets/data_science/ds7.png\"></img>"
      ]
    },
    {
      "cell_type": "markdown",
      "metadata": {
        "id": "Ohf7faMgoPGV"
      },
      "source": [
        "wattenberg and Viegas visualization"
      ]
    },
    {
      "cell_type": "code",
      "metadata": {
        "colab": {
          "base_uri": "https://localhost:8080/",
          "height": 601
        },
        "id": "k_cE3KyG8xL9",
        "outputId": "6eabbc5c-bfcd-4676-fe5e-2a523a662735"
      },
      "source": [
        "%%HTML\n",
        "<video width=\"640\" height=\"580\" controls>\n",
        "  <source src=\"https://github.com/wesleybeckner/technology_explorers/blob/main/assets/data_science/ds4.mp4?raw=true\" type=\"video/mp4\">\n",
        "</video>"
      ],
      "execution_count": null,
      "outputs": [
        {
          "output_type": "display_data",
          "data": {
            "text/html": [
              "<video width=\"640\" height=\"580\" controls>\n",
              "  <source src=\"https://github.com/wesleybeckner/technology_explorers/blob/main/assets/data_science/ds4.mp4?raw=true\" type=\"video/mp4\">\n",
              "</video>"
            ],
            "text/plain": [
              "<IPython.core.display.HTML object>"
            ]
          },
          "metadata": {}
        }
      ]
    },
    {
      "cell_type": "markdown",
      "metadata": {
        "id": "2YGmBTH09SEm"
      },
      "source": [
        "<p align=center>\n",
        "<img src=\"https://raw.githubusercontent.com/wesleybeckner/technology_explorers/main/assets/data_science/ds6.png\"></img>\n",
        "\n",
        "<p align=center>\n",
        "<img src=\"https://raw.githubusercontent.com/wesleybeckner/technology_explorers/main/assets/data_science/ds4.png\"></img>\n",
        "\n",
        "<p align=center>\n",
        "<img src=\"https://raw.githubusercontent.com/wesleybeckner/technology_explorers/main/assets/data_science/ds5.png\"></img>\n"
      ]
    },
    {
      "cell_type": "markdown",
      "metadata": {
        "id": "j2wDY6e2b3r9"
      },
      "source": [
        "[Color blindness](https://www.colourblindawareness.org/colour-blindness/) is prevalent, and something we should consider when choosing colors in our visual displays"
      ]
    },
    {
      "cell_type": "markdown",
      "metadata": {
        "id": "s19JCPvs7_Zi"
      },
      "source": [
        "<p align=center>\n",
        "<img src=\"https://raw.githubusercontent.com/wesleybeckner/technology_explorers/main/assets/data_science/ds8.png\"></img>\n"
      ]
    },
    {
      "cell_type": "markdown",
      "metadata": {
        "id": "tdF_-Hv28DtJ"
      },
      "source": [
        "<p align=center>\n",
        "<img src=\"https://raw.githubusercontent.com/wesleybeckner/technology_explorers/main/assets/data_science/ds9.png\"></img>\n",
        "\n",
        "<p align=center>\n",
        "<img src=\"https://raw.githubusercontent.com/wesleybeckner/technology_explorers/main/assets/data_science/ds10.png\"></img>\n",
        "\n",
        "\n",
        "<p align=center>\n",
        "<img src=\"https://raw.githubusercontent.com/wesleybeckner/technology_explorers/main/assets/data_science/ds11.png\"></img>\n",
        "\n",
        "<p align=center>\n",
        "<img src=\"https://raw.githubusercontent.com/wesleybeckner/technology_explorers/main/assets/data_science/ds12.png\"></img>\n",
        "\n",
        "<p align=center>\n",
        "<img src=\"https://raw.githubusercontent.com/wesleybeckner/technology_explorers/main/assets/data_science/ds13.png\"></img>\n",
        "\n",
        "<p align=center>\n",
        "<img src=\"https://raw.githubusercontent.com/wesleybeckner/technology_explorers/main/assets/data_science/ds14.jpg\"></img>"
      ]
    },
    {
      "cell_type": "markdown",
      "metadata": {
        "id": "D_06zMGURIr7"
      },
      "source": [
        "#### Visualization Un-Examples"
      ]
    },
    {
      "cell_type": "markdown",
      "metadata": {
        "id": "5NVGz4Eq9e6l"
      },
      "source": [
        "**Unexample 1**\n",
        "\n",
        "<p align=center>\n",
        "<img src=\"https://raw.githubusercontent.com/wesleybeckner/technology_explorers/main/assets/data_science/ds15.jpg\"></img>\n",
        "\n",
        "**Unexample 2**\n",
        "\n",
        "<p align=center>\n",
        "<img src=\"https://raw.githubusercontent.com/wesleybeckner/technology_explorers/main/assets/data_science/ds19.png\"></img>\n",
        "\n",
        "**Unexample 3**\n",
        "\n",
        "<p align=center>\n",
        "<img src=\"https://raw.githubusercontent.com/wesleybeckner/technology_explorers/main/assets/data_science/ds17.png\"></img>\n",
        "\n",
        "**Unexample 4**\n",
        "\n",
        "<p align=center>\n",
        "<img src=\"https://raw.githubusercontent.com/wesleybeckner/technology_explorers/main/assets/data_science/ds18.png\"></img>"
      ]
    },
    {
      "cell_type": "markdown",
      "metadata": {
        "id": "V5qKejgaiA2a"
      },
      "source": [
        "#### 💭 3\n",
        "\n",
        "Find an example of an interactive data visualization online. Here's one I [found](https://www.migrationpolicy.org/programs/data-hub/charts/us-immigrant-population-state-and-county) that I though was quite interesting!"
      ]
    },
    {
      "cell_type": "markdown",
      "metadata": {
        "id": "APz-Xw47quIL"
      },
      "source": [
        "#### 💬 3\n",
        "\n",
        "Swap visualization links with your neighbor. What do you think could be improved about each one?"
      ]
    },
    {
      "cell_type": "markdown",
      "metadata": {
        "id": "5AAGojcF-qSK"
      },
      "source": [
        "#### Back to Anscombe's Quartet\n",
        "\n",
        "<p align=center>\n",
        "<img src=\"https://raw.githubusercontent.com/wesleybeckner/technology_explorers/main/assets/data_science/ds20.png\"></img>"
      ]
    },
    {
      "cell_type": "markdown",
      "metadata": {
        "id": "E9eca3viqsug"
      },
      "source": [
        "### Revisiting our A.I. movie data\n",
        "\n",
        "Let's revisit our imdb dataset from last week."
      ]
    },
    {
      "cell_type": "code",
      "metadata": {
        "colab": {
          "base_uri": "https://localhost:8080/",
          "height": 632
        },
        "id": "gQnlYmpgHURL",
        "outputId": "9d9679da-0574-46c8-f77e-be87f860d44f"
      },
      "source": [
        "df = pd.read_csv(\"https://raw.githubusercontent.com/wesleybeckner/\"\\\n",
        "  \"technology_explorers/main/assets/imdb_movies.csv\")\n",
        "\n",
        "# converting years to numbers for easy conditionals\n",
        "df['year'] = pd.to_numeric(df['year'], errors='coerce')\n",
        "\n",
        "df.head(2)"
      ],
      "execution_count": null,
      "outputs": [
        {
          "output_type": "stream",
          "name": "stderr",
          "text": [
            "/usr/local/lib/python3.7/dist-packages/IPython/core/interactiveshell.py:2718: DtypeWarning: Columns (3) have mixed types.Specify dtype option on import or set low_memory=False.\n",
            "  interactivity=interactivity, compiler=compiler, result=result)\n"
          ]
        },
        {
          "output_type": "execute_result",
          "data": {
            "text/html": [
              "<div>\n",
              "<style scoped>\n",
              "    .dataframe tbody tr th:only-of-type {\n",
              "        vertical-align: middle;\n",
              "    }\n",
              "\n",
              "    .dataframe tbody tr th {\n",
              "        vertical-align: top;\n",
              "    }\n",
              "\n",
              "    .dataframe thead th {\n",
              "        text-align: right;\n",
              "    }\n",
              "</style>\n",
              "<table border=\"1\" class=\"dataframe\">\n",
              "  <thead>\n",
              "    <tr style=\"text-align: right;\">\n",
              "      <th></th>\n",
              "      <th>imdb_title_id</th>\n",
              "      <th>title</th>\n",
              "      <th>original_title</th>\n",
              "      <th>year</th>\n",
              "      <th>date_published</th>\n",
              "      <th>genre</th>\n",
              "      <th>duration</th>\n",
              "      <th>country</th>\n",
              "      <th>language</th>\n",
              "      <th>director</th>\n",
              "      <th>writer</th>\n",
              "      <th>production_company</th>\n",
              "      <th>actors</th>\n",
              "      <th>description</th>\n",
              "      <th>avg_vote</th>\n",
              "      <th>votes</th>\n",
              "      <th>budget</th>\n",
              "      <th>usa_gross_income</th>\n",
              "      <th>worlwide_gross_income</th>\n",
              "      <th>metascore</th>\n",
              "      <th>reviews_from_users</th>\n",
              "      <th>reviews_from_critics</th>\n",
              "    </tr>\n",
              "  </thead>\n",
              "  <tbody>\n",
              "    <tr>\n",
              "      <th>0</th>\n",
              "      <td>tt0000009</td>\n",
              "      <td>Miss Jerry</td>\n",
              "      <td>Miss Jerry</td>\n",
              "      <td>1894.0</td>\n",
              "      <td>1894-10-09</td>\n",
              "      <td>Romance</td>\n",
              "      <td>45</td>\n",
              "      <td>USA</td>\n",
              "      <td>None</td>\n",
              "      <td>Alexander Black</td>\n",
              "      <td>Alexander Black</td>\n",
              "      <td>Alexander Black Photoplays</td>\n",
              "      <td>Blanche Bayliss, William Courtenay, Chauncey Depew</td>\n",
              "      <td>The adventures of a female reporter in the 1890s.</td>\n",
              "      <td>5.9</td>\n",
              "      <td>154</td>\n",
              "      <td>NaN</td>\n",
              "      <td>NaN</td>\n",
              "      <td>NaN</td>\n",
              "      <td>NaN</td>\n",
              "      <td>1.0</td>\n",
              "      <td>2.0</td>\n",
              "    </tr>\n",
              "    <tr>\n",
              "      <th>1</th>\n",
              "      <td>tt0000574</td>\n",
              "      <td>The Story of the Kelly Gang</td>\n",
              "      <td>The Story of the Kelly Gang</td>\n",
              "      <td>1906.0</td>\n",
              "      <td>1906-12-26</td>\n",
              "      <td>Biography, Crime, Drama</td>\n",
              "      <td>70</td>\n",
              "      <td>Australia</td>\n",
              "      <td>None</td>\n",
              "      <td>Charles Tait</td>\n",
              "      <td>Charles Tait</td>\n",
              "      <td>J. and N. Tait</td>\n",
              "      <td>Elizabeth Tait, John Tait, Norman Campbell, Bella Cola, Will Coyne, Sam Crewes, Jack Ennis, John Forde, Vera Linden, Mr. Marshall, Mr. McKenzie, Frank Mills, Ollie Wilson</td>\n",
              "      <td>True story of notorious Australian outlaw Ned Kelly (1855-80).</td>\n",
              "      <td>6.1</td>\n",
              "      <td>589</td>\n",
              "      <td>$ 2250</td>\n",
              "      <td>NaN</td>\n",
              "      <td>NaN</td>\n",
              "      <td>NaN</td>\n",
              "      <td>7.0</td>\n",
              "      <td>7.0</td>\n",
              "    </tr>\n",
              "  </tbody>\n",
              "</table>\n",
              "</div>"
            ],
            "text/plain": [
              "  imdb_title_id  ... reviews_from_critics\n",
              "0     tt0000009  ...                  2.0\n",
              "1     tt0000574  ...                  7.0\n",
              "\n",
              "[2 rows x 22 columns]"
            ]
          },
          "metadata": {},
          "execution_count": 164
        }
      ]
    },
    {
      "cell_type": "code",
      "metadata": {
        "colab": {
          "base_uri": "https://localhost:8080/",
          "height": 534
        },
        "id": "PSQhDPZYqxFR",
        "outputId": "b4743298-d498-4cf8-f135-20dc382e7bf0"
      },
      "source": [
        "\n",
        "df.loc[(df['description'].str.contains('artificial intelligence|a\\.i\\.|robot', \n",
        "                                       na=False))][['original_title', 'year', 'description']][:10]"
      ],
      "execution_count": null,
      "outputs": [
        {
          "output_type": "execute_result",
          "data": {
            "text/html": [
              "<div>\n",
              "<style scoped>\n",
              "    .dataframe tbody tr th:only-of-type {\n",
              "        vertical-align: middle;\n",
              "    }\n",
              "\n",
              "    .dataframe tbody tr th {\n",
              "        vertical-align: top;\n",
              "    }\n",
              "\n",
              "    .dataframe thead th {\n",
              "        text-align: right;\n",
              "    }\n",
              "</style>\n",
              "<table border=\"1\" class=\"dataframe\">\n",
              "  <thead>\n",
              "    <tr style=\"text-align: right;\">\n",
              "      <th></th>\n",
              "      <th>original_title</th>\n",
              "      <th>year</th>\n",
              "      <th>description</th>\n",
              "    </tr>\n",
              "  </thead>\n",
              "  <tbody>\n",
              "    <tr>\n",
              "      <th>1683</th>\n",
              "      <td>Son of a Sailor</td>\n",
              "      <td>1933.0</td>\n",
              "      <td>A smooth-talking sailor looking for a quick date meets the granddaughter of an admiral and finds himself in a house full of top Navy officers, along with a couple of spies interested in plans for a new robot-controlled flight system.</td>\n",
              "    </tr>\n",
              "    <tr>\n",
              "      <th>3339</th>\n",
              "      <td>The Middleton Family at the New York World's Fair</td>\n",
              "      <td>1939.0</td>\n",
              "      <td>The Middleton family visits the 1939 New York World's Fair and witnesses the advent of the future, encountering robots and dishwashers for the first time.</td>\n",
              "    </tr>\n",
              "    <tr>\n",
              "      <th>3846</th>\n",
              "      <td>Emergency Landing</td>\n",
              "      <td>1941.0</td>\n",
              "      <td>A test pilot and his weather observer develop a \"robot\" control so airplanes can be flown without pilots, but enemy agents get wind of it and try to steal it or destroy it.</td>\n",
              "    </tr>\n",
              "    <tr>\n",
              "      <th>4122</th>\n",
              "      <td>Cairo</td>\n",
              "      <td>1942.0</td>\n",
              "      <td>Reporter Homer Smith accidentally draws Marcia Warren into his mission to stop Nazis from bombing Allied Convoys with robot-planes.</td>\n",
              "    </tr>\n",
              "    <tr>\n",
              "      <th>6274</th>\n",
              "      <td>The Perfect Woman</td>\n",
              "      <td>1949.0</td>\n",
              "      <td>In need of cash, Roger Cavendish and his valet take a job escorting the perfect woman for a night on the town. She is in fact the robotic creation of Professor Belman, but it turns out ...</td>\n",
              "    </tr>\n",
              "    <tr>\n",
              "      <th>7936</th>\n",
              "      <td>Devil Girl from Mars</td>\n",
              "      <td>1954.0</td>\n",
              "      <td>An uptight, leather-clad female alien, armed with a ray gun and accompanied by a menacing robot, comes to Earth to collect Earth's men as breeding stock.</td>\n",
              "    </tr>\n",
              "    <tr>\n",
              "      <th>7977</th>\n",
              "      <td>Gog</td>\n",
              "      <td>1954.0</td>\n",
              "      <td>A security agent investigates sabotage and murder at a secret underground laboratory, home of two experimental robots.</td>\n",
              "    </tr>\n",
              "    <tr>\n",
              "      <th>8155</th>\n",
              "      <td>Target Earth</td>\n",
              "      <td>1954.0</td>\n",
              "      <td>Giant robots from Venus invade Chicago. Stranded in the deserted city are strangers Frank and Nora.</td>\n",
              "    </tr>\n",
              "    <tr>\n",
              "      <th>8173</th>\n",
              "      <td>Tobor the Great</td>\n",
              "      <td>1954.0</td>\n",
              "      <td>A young boy-genius befriends his grandfather's robot, designed as a test pilot for space travel and coveted by foreign spies.</td>\n",
              "    </tr>\n",
              "    <tr>\n",
              "      <th>9047</th>\n",
              "      <td>Chikyû Bôeigun</td>\n",
              "      <td>1957.0</td>\n",
              "      <td>Shortly after a giant robot destroys a village, aliens from outer space arrive offering friendship. Will the people of Earth tie these two events together?</td>\n",
              "    </tr>\n",
              "  </tbody>\n",
              "</table>\n",
              "</div>"
            ],
            "text/plain": [
              "                                         original_title  ...                                                                                                                                                                                                                                description\n",
              "1683                                    Son of a Sailor  ...  A smooth-talking sailor looking for a quick date meets the granddaughter of an admiral and finds himself in a house full of top Navy officers, along with a couple of spies interested in plans for a new robot-controlled flight system.\n",
              "3339  The Middleton Family at the New York World's Fair  ...                                                                                 The Middleton family visits the 1939 New York World's Fair and witnesses the advent of the future, encountering robots and dishwashers for the first time.\n",
              "3846                                  Emergency Landing  ...                                                               A test pilot and his weather observer develop a \"robot\" control so airplanes can be flown without pilots, but enemy agents get wind of it and try to steal it or destroy it.\n",
              "4122                                              Cairo  ...                                                                                                        Reporter Homer Smith accidentally draws Marcia Warren into his mission to stop Nazis from bombing Allied Convoys with robot-planes.\n",
              "6274                                  The Perfect Woman  ...                                               In need of cash, Roger Cavendish and his valet take a job escorting the perfect woman for a night on the town. She is in fact the robotic creation of Professor Belman, but it turns out ...\n",
              "7936                               Devil Girl from Mars  ...                                                                                  An uptight, leather-clad female alien, armed with a ray gun and accompanied by a menacing robot, comes to Earth to collect Earth's men as breeding stock.\n",
              "7977                                                Gog  ...                                                                                                                     A security agent investigates sabotage and murder at a secret underground laboratory, home of two experimental robots.\n",
              "8155                                       Target Earth  ...                                                                                                                                        Giant robots from Venus invade Chicago. Stranded in the deserted city are strangers Frank and Nora.\n",
              "8173                                    Tobor the Great  ...                                                                                                              A young boy-genius befriends his grandfather's robot, designed as a test pilot for space travel and coveted by foreign spies.\n",
              "9047                                     Chikyû Bôeigun  ...                                                                                Shortly after a giant robot destroys a village, aliens from outer space arrive offering friendship. Will the people of Earth tie these two events together?\n",
              "\n",
              "[10 rows x 3 columns]"
            ]
          },
          "metadata": {},
          "execution_count": 165
        }
      ]
    },
    {
      "cell_type": "code",
      "metadata": {
        "colab": {
          "base_uri": "https://localhost:8080/",
          "height": 343
        },
        "id": "Xn0TJkZAQYa2",
        "outputId": "22b10369-a63f-4411-be11-03dc63e6d2da"
      },
      "source": [
        "filter = df['description'].str.contains('artificial intelligence|a\\.i\\.|robot', na = False)\n",
        "df.loc[filter][['title', 'original_title', 'description']].head(5)"
      ],
      "execution_count": null,
      "outputs": [
        {
          "output_type": "execute_result",
          "data": {
            "text/html": [
              "<div>\n",
              "<style scoped>\n",
              "    .dataframe tbody tr th:only-of-type {\n",
              "        vertical-align: middle;\n",
              "    }\n",
              "\n",
              "    .dataframe tbody tr th {\n",
              "        vertical-align: top;\n",
              "    }\n",
              "\n",
              "    .dataframe thead th {\n",
              "        text-align: right;\n",
              "    }\n",
              "</style>\n",
              "<table border=\"1\" class=\"dataframe\">\n",
              "  <thead>\n",
              "    <tr style=\"text-align: right;\">\n",
              "      <th></th>\n",
              "      <th>title</th>\n",
              "      <th>original_title</th>\n",
              "      <th>description</th>\n",
              "    </tr>\n",
              "  </thead>\n",
              "  <tbody>\n",
              "    <tr>\n",
              "      <th>1683</th>\n",
              "      <td>Son of a Sailor</td>\n",
              "      <td>Son of a Sailor</td>\n",
              "      <td>A smooth-talking sailor looking for a quick date meets the granddaughter of an admiral and finds himself in a house full of top Navy officers, along with a couple of spies interested in plans for a new robot-controlled flight system.</td>\n",
              "    </tr>\n",
              "    <tr>\n",
              "      <th>3339</th>\n",
              "      <td>The Middleton Family at the New York World's Fair</td>\n",
              "      <td>The Middleton Family at the New York World's Fair</td>\n",
              "      <td>The Middleton family visits the 1939 New York World's Fair and witnesses the advent of the future, encountering robots and dishwashers for the first time.</td>\n",
              "    </tr>\n",
              "    <tr>\n",
              "      <th>3846</th>\n",
              "      <td>Il segreto del p 22</td>\n",
              "      <td>Emergency Landing</td>\n",
              "      <td>A test pilot and his weather observer develop a \"robot\" control so airplanes can be flown without pilots, but enemy agents get wind of it and try to steal it or destroy it.</td>\n",
              "    </tr>\n",
              "    <tr>\n",
              "      <th>4122</th>\n",
              "      <td>Avventura al Cairo</td>\n",
              "      <td>Cairo</td>\n",
              "      <td>Reporter Homer Smith accidentally draws Marcia Warren into his mission to stop Nazis from bombing Allied Convoys with robot-planes.</td>\n",
              "    </tr>\n",
              "    <tr>\n",
              "      <th>6274</th>\n",
              "      <td>The Perfect Woman</td>\n",
              "      <td>The Perfect Woman</td>\n",
              "      <td>In need of cash, Roger Cavendish and his valet take a job escorting the perfect woman for a night on the town. She is in fact the robotic creation of Professor Belman, but it turns out ...</td>\n",
              "    </tr>\n",
              "  </tbody>\n",
              "</table>\n",
              "</div>"
            ],
            "text/plain": [
              "                                                  title  ...                                                                                                                                                                                                                                description\n",
              "1683                                    Son of a Sailor  ...  A smooth-talking sailor looking for a quick date meets the granddaughter of an admiral and finds himself in a house full of top Navy officers, along with a couple of spies interested in plans for a new robot-controlled flight system.\n",
              "3339  The Middleton Family at the New York World's Fair  ...                                                                                 The Middleton family visits the 1939 New York World's Fair and witnesses the advent of the future, encountering robots and dishwashers for the first time.\n",
              "3846                                Il segreto del p 22  ...                                                               A test pilot and his weather observer develop a \"robot\" control so airplanes can be flown without pilots, but enemy agents get wind of it and try to steal it or destroy it.\n",
              "4122                                 Avventura al Cairo  ...                                                                                                        Reporter Homer Smith accidentally draws Marcia Warren into his mission to stop Nazis from bombing Allied Convoys with robot-planes.\n",
              "6274                                  The Perfect Woman  ...                                               In need of cash, Roger Cavendish and his valet take a job escorting the perfect woman for a night on the town. She is in fact the robotic creation of Professor Belman, but it turns out ...\n",
              "\n",
              "[5 rows x 3 columns]"
            ]
          },
          "metadata": {},
          "execution_count": 166
        }
      ]
    },
    {
      "cell_type": "markdown",
      "metadata": {
        "id": "zf1GIFq4rPNE"
      },
      "source": [
        "Let's create a visualization that helps answer the question: \n",
        "\n",
        "> What is the popularity of AI movies by year?\""
      ]
    },
    {
      "cell_type": "markdown",
      "metadata": {
        "id": "qGUSb4hdf9t9"
      },
      "source": [
        "#### 💬 4\n",
        "\n",
        "What are some potential issues with the following plot?"
      ]
    },
    {
      "cell_type": "code",
      "metadata": {
        "colab": {
          "base_uri": "https://localhost:8080/"
        },
        "id": "HYqO6zMlSB0I",
        "outputId": "cada7c9c-0582-4161-cb6b-8e856d08e308"
      },
      "source": [
        "# practice\n",
        "aimovies = df.loc[df['description'].str.contains('artificial intelligence|a\\.i\\.|robot', na = False)]\n",
        "aimovies[['title', 'description']]\n",
        "aimoviesyear = aimovies.groupby('year').count()\n",
        "aimoviesyear['title'].values"
      ],
      "execution_count": null,
      "outputs": [
        {
          "output_type": "execute_result",
          "data": {
            "text/plain": [
              "array([ 1,  1,  1,  1,  1,  1,  4,  2,  2,  1,  2,  1,  1,  3,  2,  1,  2,\n",
              "        1,  1,  1,  2,  1,  4,  1,  2,  1,  1,  2,  1,  9,  6,  1,  3,  2,\n",
              "        1,  5,  4,  4,  4,  1,  2,  3,  4,  2,  3,  4,  5,  3,  1,  2,  7,\n",
              "        5,  7,  4,  8,  9,  6,  7, 10, 12, 11,  3])"
            ]
          },
          "metadata": {},
          "execution_count": 167
        }
      ]
    },
    {
      "cell_type": "code",
      "metadata": {
        "colab": {
          "base_uri": "https://localhost:8080/",
          "height": 302
        },
        "id": "GqCmorplbpo3",
        "outputId": "bc2d902e-460f-4a4d-9d36-dad716d8ffe4"
      },
      "source": [
        "fig, ax = plt.subplots()\n",
        "aimoviesyear['title'].plot()"
      ],
      "execution_count": null,
      "outputs": [
        {
          "output_type": "execute_result",
          "data": {
            "text/plain": [
              "<matplotlib.axes._subplots.AxesSubplot at 0x7f5c38538910>"
            ]
          },
          "metadata": {},
          "execution_count": 178
        },
        {
          "output_type": "display_data",
          "data": {
            "image/png": "[encoded data removed]",
            "text/plain": [
              "<Figure size 432x288 with 1 Axes>"
            ]
          },
          "metadata": {}
        }
      ]
    },
    {
      "cell_type": "code",
      "metadata": {
        "colab": {
          "base_uri": "https://localhost:8080/"
        },
        "id": "9a7zKxU9-sNt",
        "outputId": "866a06bc-7a06-461f-cff3-fbab27b9af5a"
      },
      "source": [
        "aimovies = df.loc[df[\"description\"].str.contains('artificial intelligence|a\\.i\\.|robot', na=False)]\n",
        "aimovies.shape\n",
        "# aimovies.groupby('year').count()[\"imdb_title_id\"]"
      ],
      "execution_count": null,
      "outputs": [
        {
          "output_type": "execute_result",
          "data": {
            "text/plain": [
              "(203, 22)"
            ]
          },
          "metadata": {},
          "execution_count": 169
        }
      ]
    },
    {
      "cell_type": "code",
      "metadata": {
        "id": "L4AUMHrKrOp4",
        "colab": {
          "base_uri": "https://localhost:8080/"
        },
        "outputId": "c6738b23-7722-49a1-f30b-a746c07f9547"
      },
      "source": [
        "ai_movies = df.loc[(df['description'].str.contains('artificial intelligence|a\\.i\\.|robot', \n",
        "                                       na=False))]\n",
        "\n",
        "ai_movies.shape\n"
      ],
      "execution_count": null,
      "outputs": [
        {
          "output_type": "execute_result",
          "data": {
            "text/plain": [
              "(203, 22)"
            ]
          },
          "metadata": {},
          "execution_count": 170
        }
      ]
    },
    {
      "cell_type": "code",
      "metadata": {
        "colab": {
          "base_uri": "https://localhost:8080/",
          "height": 356
        },
        "id": "KR9GIAp3AsoK",
        "outputId": "0ce4a16f-999c-4050-b1a7-a69eb7253665"
      },
      "source": [
        "byyear = aimovies.groupby('year').count()[\"imdb_title_id\"]\n",
        "# byyear\n",
        "\n",
        "# aimovies['year'].value_counts()\n",
        "# value counts arrangegs the data in descending order, .count can be done on dataframes and not valuecounts \n",
        "# value counts have to be used when you want to find the ferquency of a series. count has to be used to count the no. of valied filter values \n",
        "\n",
        "fig, ax = plt.subplots(figsize = (10,5))\n",
        "byyear.plot(marker = \".\", ax = ax) #ax=ax is saying that the x axis have to have the same values?idk\n",
        "ax.set_ylabel(\"number of movies\")"
      ],
      "execution_count": null,
      "outputs": [
        {
          "output_type": "execute_result",
          "data": {
            "text/plain": [
              "Text(0, 0.5, 'number of movies')"
            ]
          },
          "metadata": {},
          "execution_count": 171
        },
        {
          "output_type": "display_data",
          "data": {
            "image/png": "[encoded data removed]",
            "text/plain": [
              "<Figure size 720x360 with 1 Axes>"
            ]
          },
          "metadata": {}
        }
      ]
    },
    {
      "cell_type": "code",
      "metadata": {
        "colab": {
          "base_uri": "https://localhost:8080/",
          "height": 356
        },
        "id": "tjLDTiRBrXyJ",
        "outputId": "9e175c7d-f37b-402c-bc38-9d73a5cfb52c"
      },
      "source": [
        "fig, ax = plt.subplots(figsize=(10,5))\n",
        "ai_movies.groupby('year').count()['imdb_title_id'].plot(marker='.', ax=ax)\n",
        "ax.set_ylabel(\"number of movies\")"
      ],
      "execution_count": null,
      "outputs": [
        {
          "output_type": "execute_result",
          "data": {
            "text/plain": [
              "Text(0, 0.5, 'number of movies')"
            ]
          },
          "metadata": {},
          "execution_count": 172
        },
        {
          "output_type": "display_data",
          "data": {
            "image/png": "[encoded data removed]",
            "text/plain": [
              "<Figure size 720x360 with 1 Axes>"
            ]
          },
          "metadata": {}
        }
      ]
    },
    {
      "cell_type": "markdown",
      "metadata": {
        "id": "IEfQ7wXOlh_C"
      },
      "source": [
        "It looks like the popularity is increasing, doesn't it? But is that fair to say if we do not consider the total number of movies in the database each year?"
      ]
    },
    {
      "cell_type": "markdown",
      "metadata": {
        "id": "DgbBxgOiuFcl"
      },
      "source": [
        "Let's say we're curious about the year 1986 and what countries contributed to the spike in movies. How would we *filter* for year 1986, then *select* country and perform a count *operation*? Remember the sequence **Select ➡️ filter ➡️ operate**"
      ]
    },
    {
      "cell_type": "code",
      "metadata": {
        "colab": {
          "base_uri": "https://localhost:8080/"
        },
        "id": "PCBfoxk8EQHd",
        "outputId": "862f4dfa-2ce6-46ee-cabc-fd3ac1edf0a2"
      },
      "source": [
        "# practice\n",
        "aimovies[['year', 'title', 'country']].head(5)\n",
        "aimovies.loc[aimovies['year']==1986][['country']].value_counts()"
      ],
      "execution_count": null,
      "outputs": [
        {
          "output_type": "execute_result",
          "data": {
            "text/plain": [
              "country             \n",
              "USA                     3\n",
              "Japan                   2\n",
              "USA, Spain              1\n",
              "USA, Japan              1\n",
              "Poland, Soviet Union    1\n",
              "Canada                  1\n",
              "dtype: int64"
            ]
          },
          "metadata": {},
          "execution_count": 173
        }
      ]
    },
    {
      "cell_type": "code",
      "metadata": {
        "colab": {
          "base_uri": "https://localhost:8080/"
        },
        "id": "VQAeF4SEthzs",
        "outputId": "5254eb7d-772f-4488-8273-bd9d9404e1f8"
      },
      "source": [
        "ai_movies.loc[ai_movies['year'] == 1986][['country']].value_counts()"
      ],
      "execution_count": null,
      "outputs": [
        {
          "output_type": "execute_result",
          "data": {
            "text/plain": [
              "country             \n",
              "USA                     3\n",
              "Japan                   2\n",
              "USA, Spain              1\n",
              "USA, Japan              1\n",
              "Poland, Soviet Union    1\n",
              "Canada                  1\n",
              "dtype: int64"
            ]
          },
          "metadata": {},
          "execution_count": 174
        }
      ]
    },
    {
      "cell_type": "markdown",
      "metadata": {
        "id": "wC6rIa1AuJS_"
      },
      "source": [
        "Looks like a good year for US-Japan movie making. How can we look into the role of different countries in AI movie making?\n",
        "\n",
        "> in the following, pandas doesn't have the ability to color according to a categorical column, out of the box. So I switch over to seaborn. For more exercises with seaborn visit [JVDP's chapter on the subject](https://jakevdp.github.io/PythonDataScienceHandbook/04.14-visualization-with-seaborn.html)"
      ]
    },
    {
      "cell_type": "code",
      "metadata": {
        "colab": {
          "base_uri": "https://localhost:8080/",
          "height": 339
        },
        "id": "Z9Gy--xngApb",
        "outputId": "76a7f804-be22-4002-cc16-8e62f34ff761"
      },
      "source": [
        "bycountry = ai_movies.groupby('country').filter(lambda x: (x.count()>=5).any())\n",
        "bycountryyear = bycountry.groupby(['country','year']).count()\n",
        "graph = bycountryyear.reset_index()\n",
        "\n",
        "\n",
        "fig, ax = plt.subplots(figsize = (12,5))\n",
        "\n",
        "with sns.axes_style(\"whitegrid\"):\n",
        "  g = sns.barplot(data=graph, x = 'year', y='title', hue='country', order=range(1999,2019))"
      ],
      "execution_count": null,
      "outputs": [
        {
          "output_type": "display_data",
          "data": {
            "image/png": "[encoded data removed]",
            "text/plain": [
              "<Figure size 864x360 with 1 Axes>"
            ]
          },
          "metadata": {}
        }
      ]
    },
    {
      "cell_type": "code",
      "metadata": {
        "colab": {
          "base_uri": "https://localhost:8080/",
          "height": 339
        },
        "id": "oxFYvFG1F6Wo",
        "outputId": "442ba5e5-c9b8-45a8-ecab-20acb04199cc"
      },
      "source": [
        "fig, ax = plt.subplots(figsize = (12,5))\n",
        "\n",
        "bycountry = ai_movies.groupby(['country']).filter(lambda x: (x.count() >= 5).any()).\\\n",
        "                      groupby(['country', 'year']).apply(lambda x: (x.count()))['title'].reset_index()\n",
        "\n",
        "with sns.axes_style(\"whitegrid\"):\n",
        "  g = sns.barplot(data=bycountry, x = 'year', y='title', hue='country', order=range(1999,2019))"
      ],
      "execution_count": null,
      "outputs": [
        {
          "output_type": "display_data",
          "data": {
            "image/png": "[encoded data removed]",
            "text/plain": [
              "<Figure size 864x360 with 1 Axes>"
            ]
          },
          "metadata": {}
        }
      ]
    },
    {
      "cell_type": "markdown",
      "metadata": {
        "id": "6bbvCzD5uSHk"
      },
      "source": [
        "fig, ax = plt.subplots(figsize=(12,5))\n",
        "by_country = ai_movies.groupby(['country']).filter(lambda x: (x.count() >= 5).any()).\\\n",
        "          groupby(['country', 'year']).apply(lambda x: x.count())[['title']].reset_index()\n",
        "\n",
        "\n",
        "\n",
        "\n",
        "\n",
        "\n",
        "with sns.axes_style('white'):\n",
        "    g = sns.barplot(data=by_country, x=\"year\", hue='country', y='title', ax=ax, order=range(1999, 2019))\n",
        "ax.set_ylabel('Number of Films')"
      ]
    },
    {
      "cell_type": "markdown",
      "metadata": {
        "id": "q90CNJ0o3ABJ"
      },
      "source": [
        "For the last 20 years we can see that U.S./Japan have dominated the A.I. movie market"
      ]
    },
    {
      "cell_type": "markdown",
      "metadata": {
        "id": "kdjR9fvRqkU6"
      },
      "source": [
        "# In-Class Exercises\n",
        "\n",
        "Create visualizations that help a user answer the following questions:"
      ]
    },
    {
      "cell_type": "markdown",
      "metadata": {
        "id": "SNKi_YWBqp3N"
      },
      "source": [
        "## 🐍 Exercise 1: Visualizing Fractions\n",
        "\n",
        "1. Of all the movie data, which top 10 countries have the highest fraction of AI movies?\n",
        "2. Are there more movies about AI before or after 1986?"
      ]
    },
    {
      "cell_type": "code",
      "metadata": {
        "id": "Ue7N2mKaqoGg"
      },
      "source": [
        "# Cell for 1.1\n",
        "\n",
        "\n",
        "df_totmovies = df.groupby(['country']).count()\n",
        "\n",
        "\n",
        "\n",
        "df_aimovies = df.groupby(['country'])['description'].apply(lambda x: x.loc[x.str.contains('artificial intelligence|a\\.i\\.|robot', na=False)].count())\n"
      ],
      "execution_count": null,
      "outputs": []
    },
    {
      "cell_type": "code",
      "metadata": {
        "colab": {
          "base_uri": "https://localhost:8080/",
          "height": 422
        },
        "id": "ZjZMGk0mxxpq",
        "outputId": "6935ca69-f553-4b7d-e475-73390f0e5f56"
      },
      "source": [
        "df_aimovies.reset_index()"
      ],
      "execution_count": null,
      "outputs": [
        {
          "output_type": "execute_result",
          "data": {
            "text/html": [
              "<div>\n",
              "<style scoped>\n",
              "    .dataframe tbody tr th:only-of-type {\n",
              "        vertical-align: middle;\n",
              "    }\n",
              "\n",
              "    .dataframe tbody tr th {\n",
              "        vertical-align: top;\n",
              "    }\n",
              "\n",
              "    .dataframe thead th {\n",
              "        text-align: right;\n",
              "    }\n",
              "</style>\n",
              "<table border=\"1\" class=\"dataframe\">\n",
              "  <thead>\n",
              "    <tr style=\"text-align: right;\">\n",
              "      <th></th>\n",
              "      <th>country</th>\n",
              "      <th>description</th>\n",
              "    </tr>\n",
              "  </thead>\n",
              "  <tbody>\n",
              "    <tr>\n",
              "      <th>0</th>\n",
              "      <td>Afghanistan, France</td>\n",
              "      <td>0</td>\n",
              "    </tr>\n",
              "    <tr>\n",
              "      <th>1</th>\n",
              "      <td>Afghanistan, France, Germany, UK</td>\n",
              "      <td>0</td>\n",
              "    </tr>\n",
              "    <tr>\n",
              "      <th>2</th>\n",
              "      <td>Afghanistan, Iran</td>\n",
              "      <td>0</td>\n",
              "    </tr>\n",
              "    <tr>\n",
              "      <th>3</th>\n",
              "      <td>Afghanistan, Ireland, Japan, Iran, Netherlands</td>\n",
              "      <td>0</td>\n",
              "    </tr>\n",
              "    <tr>\n",
              "      <th>4</th>\n",
              "      <td>Albania</td>\n",
              "      <td>0</td>\n",
              "    </tr>\n",
              "    <tr>\n",
              "      <th>...</th>\n",
              "      <td>...</td>\n",
              "      <td>...</td>\n",
              "    </tr>\n",
              "    <tr>\n",
              "      <th>4902</th>\n",
              "      <td>Yugoslavia, USA</td>\n",
              "      <td>0</td>\n",
              "    </tr>\n",
              "    <tr>\n",
              "      <th>4903</th>\n",
              "      <td>Yugoslavia, USA, Liechtenstein</td>\n",
              "      <td>0</td>\n",
              "    </tr>\n",
              "    <tr>\n",
              "      <th>4904</th>\n",
              "      <td>Yugoslavia, West Germany</td>\n",
              "      <td>0</td>\n",
              "    </tr>\n",
              "    <tr>\n",
              "      <th>4905</th>\n",
              "      <td>Zambia, Sweden</td>\n",
              "      <td>0</td>\n",
              "    </tr>\n",
              "    <tr>\n",
              "      <th>4906</th>\n",
              "      <td>Zimbabwe</td>\n",
              "      <td>0</td>\n",
              "    </tr>\n",
              "  </tbody>\n",
              "</table>\n",
              "<p>4907 rows × 2 columns</p>\n",
              "</div>"
            ],
            "text/plain": [
              "                                             country  description\n",
              "0                                Afghanistan, France            0\n",
              "1                   Afghanistan, France, Germany, UK            0\n",
              "2                                  Afghanistan, Iran            0\n",
              "3     Afghanistan, Ireland, Japan, Iran, Netherlands            0\n",
              "4                                            Albania            0\n",
              "...                                              ...          ...\n",
              "4902                                 Yugoslavia, USA            0\n",
              "4903                  Yugoslavia, USA, Liechtenstein            0\n",
              "4904                        Yugoslavia, West Germany            0\n",
              "4905                                  Zambia, Sweden            0\n",
              "4906                                        Zimbabwe            0\n",
              "\n",
              "[4907 rows x 2 columns]"
            ]
          },
          "metadata": {},
          "execution_count": 300
        }
      ]
    },
    {
      "cell_type": "code",
      "metadata": {
        "id": "oL13QksOPOYh"
      },
      "source": [
        ""
      ],
      "execution_count": null,
      "outputs": []
    },
    {
      "cell_type": "code",
      "metadata": {
        "id": "ZI9Hmx2JsmZj"
      },
      "source": [
        "# Cell for 1.2\n",
        "\n",
        "ai_movies = df.loc[(df['description'].str.contains('artificial intelligence|a\\.i\\.|robot', na=False))]\n",
        "\n",
        "before = ai_movies.loc[ai_movies['year']<=1986]\n",
        "before.shape\n",
        "\n",
        "after = ai_movies.loc[ai_movies['year']>1986]\n",
        "after.shape, before.shape\n",
        "ai_movies.shape[0], after.shape[0], before.shape[0]"
      ],
      "execution_count": null,
      "outputs": []
    },
    {
      "cell_type": "markdown",
      "metadata": {
        "id": "R3k4yZhcsnfP"
      },
      "source": [
        "## 🐍 Exercise 2: Operating on NumPy Arrays\n",
        "\n",
        "the following arrays, x, y, and z, contain the respective locations of an objext in 3-dimensional space with respect to time. \n",
        "\n",
        "1. Return the euclidian distance between the points in x, y, and z\n",
        "2. Plot the euclidian distance as blue squares if the distance is greater than 1 and as red stars otherwise in a scatterplot of distance vs time\n",
        "\n",
        "```\n",
        "np.random.seed(42)\n",
        "x = np.random.randn(10)\n",
        "y = np.random.randn(10)\n",
        "z = np.random.randn(10)\n",
        "```"
      ]
    },
    {
      "cell_type": "code",
      "metadata": {
        "id": "5Rj3CbnNz4Je"
      },
      "source": [
        "np.random.seed(42)\n",
        "x = np.random.randn(10)\n",
        "y = np.random.randn(10)\n",
        "z = np.random.randn(10)"
      ],
      "execution_count": null,
      "outputs": []
    },
    {
      "cell_type": "code",
      "metadata": {
        "id": "cN6mfHk6tPv5"
      },
      "source": [
        "# Cell for 2.1\n",
        "dist = np.sqrt(x**2 + y**2 + z**2)\n",
        "dist"
      ],
      "execution_count": null,
      "outputs": []
    },
    {
      "cell_type": "code",
      "metadata": {
        "id": "8nBQSFjetZ1O"
      },
      "source": [
        "# Cell for 2.2\n",
        "\n",
        "\n",
        "plt.plot(dist, 'ro')"
      ],
      "execution_count": null,
      "outputs": []
    }
  ]
}