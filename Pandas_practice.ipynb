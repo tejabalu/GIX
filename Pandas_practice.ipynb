{
  "nbformat": 4,
  "nbformat_minor": 0,
  "metadata": {
    "colab": {
      "name": "Pandas practice.ipynb",
      "provenance": [],
      "collapsed_sections": [],
      "authorship_tag": "ABX9TyM4FvO4f4Xj77SW/qp4gj7+",
      "include_colab_link": true
    },
    "kernelspec": {
      "name": "python3",
      "display_name": "Python 3"
    },
    "language_info": {
      "name": "python"
    }
  },
  "cells": [
    {
      "cell_type": "markdown",
      "metadata": {
        "id": "view-in-github",
        "colab_type": "text"
      },
      "source": [
        "<a href=\"https://colab.research.google.com/github/tejabalu/udub/blob/master/Pandas_practice.ipynb\" target=\"_parent\"><img src=\"https://colab.research.google.com/assets/colab-badge.svg\" alt=\"Open In Colab\"/></a>"
      ]
    },
    {
      "cell_type": "code",
      "metadata": {
        "colab": {
          "base_uri": "https://localhost:8080/",
          "height": 204
        },
        "id": "IuidJFDBu2L7",
        "outputId": "3063824d-5865-4025-8790-63172637210f"
      },
      "source": [
        "import pandas as pd\n",
        "import numpy as np\n",
        "\n",
        "area_dict = {'california': 13213, 'texas': 123423, 'ny': 342324, 'florida': 65342}\n",
        "area = pd.Series(area_dict)\n",
        "data"
      ],
      "execution_count": null,
      "outputs": [
        {
          "output_type": "execute_result",
          "data": {
            "text/html": [
              "<div>\n",
              "<style scoped>\n",
              "    .dataframe tbody tr th:only-of-type {\n",
              "        vertical-align: middle;\n",
              "    }\n",
              "\n",
              "    .dataframe tbody tr th {\n",
              "        vertical-align: top;\n",
              "    }\n",
              "\n",
              "    .dataframe thead th {\n",
              "        text-align: right;\n",
              "    }\n",
              "</style>\n",
              "<table border=\"1\" class=\"dataframe\">\n",
              "  <thead>\n",
              "    <tr style=\"text-align: right;\">\n",
              "      <th></th>\n",
              "      <th>area</th>\n",
              "      <th>pop</th>\n",
              "      <th>density</th>\n",
              "    </tr>\n",
              "  </thead>\n",
              "  <tbody>\n",
              "    <tr>\n",
              "      <th>California</th>\n",
              "      <td>423967</td>\n",
              "      <td>12345</td>\n",
              "      <td>12345.000000</td>\n",
              "    </tr>\n",
              "    <tr>\n",
              "      <th>Texas</th>\n",
              "      <td>695662</td>\n",
              "      <td>26448193</td>\n",
              "      <td>0.026303</td>\n",
              "    </tr>\n",
              "    <tr>\n",
              "      <th>New York</th>\n",
              "      <td>141297</td>\n",
              "      <td>19651127</td>\n",
              "      <td>0.007190</td>\n",
              "    </tr>\n",
              "    <tr>\n",
              "      <th>Florida</th>\n",
              "      <td>170312</td>\n",
              "      <td>19552860</td>\n",
              "      <td>0.008710</td>\n",
              "    </tr>\n",
              "    <tr>\n",
              "      <th>Illinois</th>\n",
              "      <td>149995</td>\n",
              "      <td>12882135</td>\n",
              "      <td>0.011644</td>\n",
              "    </tr>\n",
              "  </tbody>\n",
              "</table>\n",
              "</div>"
            ],
            "text/plain": [
              "              area       pop       density\n",
              "California  423967     12345  12345.000000\n",
              "Texas       695662  26448193      0.026303\n",
              "New York    141297  19651127      0.007190\n",
              "Florida     170312  19552860      0.008710\n",
              "Illinois    149995  12882135      0.011644"
            ]
          },
          "metadata": {},
          "execution_count": 85
        }
      ]
    },
    {
      "cell_type": "code",
      "metadata": {
        "colab": {
          "base_uri": "https://localhost:8080/",
          "height": 173
        },
        "id": "8-H5xq5XwdV6",
        "outputId": "9de1d1e3-3169-40b3-97d9-3e1b9b730833"
      },
      "source": [
        "population = ([514324, 2534, 234525, 24352345])\n",
        "\n",
        "states = pd.DataFrame({'popul': population, 'area': area})\n",
        "states"
      ],
      "execution_count": null,
      "outputs": [
        {
          "output_type": "execute_result",
          "data": {
            "text/html": [
              "<div>\n",
              "<style scoped>\n",
              "    .dataframe tbody tr th:only-of-type {\n",
              "        vertical-align: middle;\n",
              "    }\n",
              "\n",
              "    .dataframe tbody tr th {\n",
              "        vertical-align: top;\n",
              "    }\n",
              "\n",
              "    .dataframe thead th {\n",
              "        text-align: right;\n",
              "    }\n",
              "</style>\n",
              "<table border=\"1\" class=\"dataframe\">\n",
              "  <thead>\n",
              "    <tr style=\"text-align: right;\">\n",
              "      <th></th>\n",
              "      <th>popul</th>\n",
              "      <th>area</th>\n",
              "    </tr>\n",
              "  </thead>\n",
              "  <tbody>\n",
              "    <tr>\n",
              "      <th>california</th>\n",
              "      <td>514324</td>\n",
              "      <td>13213</td>\n",
              "    </tr>\n",
              "    <tr>\n",
              "      <th>texas</th>\n",
              "      <td>2534</td>\n",
              "      <td>123423</td>\n",
              "    </tr>\n",
              "    <tr>\n",
              "      <th>ny</th>\n",
              "      <td>234525</td>\n",
              "      <td>342324</td>\n",
              "    </tr>\n",
              "    <tr>\n",
              "      <th>florida</th>\n",
              "      <td>24352345</td>\n",
              "      <td>65342</td>\n",
              "    </tr>\n",
              "  </tbody>\n",
              "</table>\n",
              "</div>"
            ],
            "text/plain": [
              "               popul    area\n",
              "california    514324   13213\n",
              "texas           2534  123423\n",
              "ny            234525  342324\n",
              "florida     24352345   65342"
            ]
          },
          "metadata": {},
          "execution_count": 86
        }
      ]
    },
    {
      "cell_type": "code",
      "metadata": {
        "colab": {
          "base_uri": "https://localhost:8080/"
        },
        "id": "L6CdeiSoxJU2",
        "outputId": "86cd5370-d806-484d-df0c-5c46e706227a"
      },
      "source": [
        "states['area'], states['popul']"
      ],
      "execution_count": null,
      "outputs": [
        {
          "output_type": "execute_result",
          "data": {
            "text/plain": [
              "(california     13213\n",
              " texas         123423\n",
              " ny            342324\n",
              " florida        65342\n",
              " Name: area, dtype: int64, california      514324\n",
              " texas             2534\n",
              " ny              234525\n",
              " florida       24352345\n",
              " Name: popul, dtype: int64)"
            ]
          },
          "metadata": {},
          "execution_count": 87
        }
      ]
    },
    {
      "cell_type": "code",
      "metadata": {
        "colab": {
          "base_uri": "https://localhost:8080/",
          "height": 173
        },
        "id": "iYQwItXWxZ8N",
        "outputId": "5c9c23d2-b005-49a4-ab0b-dca393fd501d"
      },
      "source": [
        "pd.DataFrame(data=population, columns=['popul'])\n"
      ],
      "execution_count": null,
      "outputs": [
        {
          "output_type": "execute_result",
          "data": {
            "text/html": [
              "<div>\n",
              "<style scoped>\n",
              "    .dataframe tbody tr th:only-of-type {\n",
              "        vertical-align: middle;\n",
              "    }\n",
              "\n",
              "    .dataframe tbody tr th {\n",
              "        vertical-align: top;\n",
              "    }\n",
              "\n",
              "    .dataframe thead th {\n",
              "        text-align: right;\n",
              "    }\n",
              "</style>\n",
              "<table border=\"1\" class=\"dataframe\">\n",
              "  <thead>\n",
              "    <tr style=\"text-align: right;\">\n",
              "      <th></th>\n",
              "      <th>popul</th>\n",
              "    </tr>\n",
              "  </thead>\n",
              "  <tbody>\n",
              "    <tr>\n",
              "      <th>0</th>\n",
              "      <td>514324</td>\n",
              "    </tr>\n",
              "    <tr>\n",
              "      <th>1</th>\n",
              "      <td>2534</td>\n",
              "    </tr>\n",
              "    <tr>\n",
              "      <th>2</th>\n",
              "      <td>234525</td>\n",
              "    </tr>\n",
              "    <tr>\n",
              "      <th>3</th>\n",
              "      <td>24352345</td>\n",
              "    </tr>\n",
              "  </tbody>\n",
              "</table>\n",
              "</div>"
            ],
            "text/plain": [
              "      popul\n",
              "0    514324\n",
              "1      2534\n",
              "2    234525\n",
              "3  24352345"
            ]
          },
          "metadata": {},
          "execution_count": 88
        }
      ]
    },
    {
      "cell_type": "code",
      "metadata": {
        "id": "8Cdc0vkrye_w"
      },
      "source": [
        "index = pd.Index([2,3,6,9])\n"
      ],
      "execution_count": null,
      "outputs": []
    },
    {
      "cell_type": "code",
      "metadata": {
        "colab": {
          "base_uri": "https://localhost:8080/",
          "height": 204
        },
        "id": "qIr_ntZ8z4on",
        "outputId": "26a992a1-5f81-471b-b735-df2f0a7c30ec"
      },
      "source": [
        "area = pd.Series({'California': 423967, 'Texas': 695662,\n",
        "                  'New York': 141297, 'Florida': 170312,\n",
        "                  'Illinois': 149995})\n",
        "pop = pd.Series({'California': 38332521, 'Texas': 26448193,\n",
        "                 'New York': 19651127, 'Florida': 19552860,\n",
        "                 'Illinois': 12882135})\n",
        "data = pd.DataFrame({'area':area, 'pop':pop})\n",
        "data"
      ],
      "execution_count": null,
      "outputs": [
        {
          "output_type": "execute_result",
          "data": {
            "text/html": [
              "<div>\n",
              "<style scoped>\n",
              "    .dataframe tbody tr th:only-of-type {\n",
              "        vertical-align: middle;\n",
              "    }\n",
              "\n",
              "    .dataframe tbody tr th {\n",
              "        vertical-align: top;\n",
              "    }\n",
              "\n",
              "    .dataframe thead th {\n",
              "        text-align: right;\n",
              "    }\n",
              "</style>\n",
              "<table border=\"1\" class=\"dataframe\">\n",
              "  <thead>\n",
              "    <tr style=\"text-align: right;\">\n",
              "      <th></th>\n",
              "      <th>area</th>\n",
              "      <th>pop</th>\n",
              "    </tr>\n",
              "  </thead>\n",
              "  <tbody>\n",
              "    <tr>\n",
              "      <th>California</th>\n",
              "      <td>423967</td>\n",
              "      <td>38332521</td>\n",
              "    </tr>\n",
              "    <tr>\n",
              "      <th>Texas</th>\n",
              "      <td>695662</td>\n",
              "      <td>26448193</td>\n",
              "    </tr>\n",
              "    <tr>\n",
              "      <th>New York</th>\n",
              "      <td>141297</td>\n",
              "      <td>19651127</td>\n",
              "    </tr>\n",
              "    <tr>\n",
              "      <th>Florida</th>\n",
              "      <td>170312</td>\n",
              "      <td>19552860</td>\n",
              "    </tr>\n",
              "    <tr>\n",
              "      <th>Illinois</th>\n",
              "      <td>149995</td>\n",
              "      <td>12882135</td>\n",
              "    </tr>\n",
              "  </tbody>\n",
              "</table>\n",
              "</div>"
            ],
            "text/plain": [
              "              area       pop\n",
              "California  423967  38332521\n",
              "Texas       695662  26448193\n",
              "New York    141297  19651127\n",
              "Florida     170312  19552860\n",
              "Illinois    149995  12882135"
            ]
          },
          "metadata": {},
          "execution_count": 90
        }
      ]
    },
    {
      "cell_type": "code",
      "metadata": {
        "colab": {
          "base_uri": "https://localhost:8080/"
        },
        "id": "J_kkRDRNz6JE",
        "outputId": "03b74d24-4444-4c85-89c4-e096ffbee6c2"
      },
      "source": [
        "data['area']"
      ],
      "execution_count": null,
      "outputs": [
        {
          "output_type": "execute_result",
          "data": {
            "text/plain": [
              "California    423967\n",
              "Texas         695662\n",
              "New York      141297\n",
              "Florida       170312\n",
              "Illinois      149995\n",
              "Name: area, dtype: int64"
            ]
          },
          "metadata": {},
          "execution_count": 91
        }
      ]
    },
    {
      "cell_type": "code",
      "metadata": {
        "colab": {
          "base_uri": "https://localhost:8080/"
        },
        "id": "JsGV8o6lz90e",
        "outputId": "f263969e-c403-4425-d512-f3b688bfd628"
      },
      "source": [
        "data['pop']"
      ],
      "execution_count": null,
      "outputs": [
        {
          "output_type": "execute_result",
          "data": {
            "text/plain": [
              "California    38332521\n",
              "Texas         26448193\n",
              "New York      19651127\n",
              "Florida       19552860\n",
              "Illinois      12882135\n",
              "Name: pop, dtype: int64"
            ]
          },
          "metadata": {},
          "execution_count": 92
        }
      ]
    },
    {
      "cell_type": "code",
      "metadata": {
        "colab": {
          "base_uri": "https://localhost:8080/"
        },
        "id": "ANClkQtK0CdA",
        "outputId": "46bcf661-608c-4c64-e792-774a6377c266"
      },
      "source": [
        "data.area"
      ],
      "execution_count": null,
      "outputs": [
        {
          "output_type": "execute_result",
          "data": {
            "text/plain": [
              "California    423967\n",
              "Texas         695662\n",
              "New York      141297\n",
              "Florida       170312\n",
              "Illinois      149995\n",
              "Name: area, dtype: int64"
            ]
          },
          "metadata": {},
          "execution_count": 93
        }
      ]
    },
    {
      "cell_type": "code",
      "metadata": {
        "colab": {
          "base_uri": "https://localhost:8080/"
        },
        "id": "sWyXKPH80NLm",
        "outputId": "7e1d98b4-a95b-4097-e9e9-5420282ab6ea"
      },
      "source": [
        "data.pop"
      ],
      "execution_count": null,
      "outputs": [
        {
          "output_type": "execute_result",
          "data": {
            "text/plain": [
              "<bound method DataFrame.pop of               area       pop\n",
              "California  423967  38332521\n",
              "Texas       695662  26448193\n",
              "New York    141297  19651127\n",
              "Florida     170312  19552860\n",
              "Illinois    149995  12882135>"
            ]
          },
          "metadata": {},
          "execution_count": 94
        }
      ]
    },
    {
      "cell_type": "code",
      "metadata": {
        "colab": {
          "base_uri": "https://localhost:8080/",
          "height": 204
        },
        "id": "npMSNQIN0UKA",
        "outputId": "bfd8133f-7abd-4687-c22b-07a8f554977e"
      },
      "source": [
        "data['density'] = data['area']/data['pop']\n",
        "data"
      ],
      "execution_count": null,
      "outputs": [
        {
          "output_type": "execute_result",
          "data": {
            "text/html": [
              "<div>\n",
              "<style scoped>\n",
              "    .dataframe tbody tr th:only-of-type {\n",
              "        vertical-align: middle;\n",
              "    }\n",
              "\n",
              "    .dataframe tbody tr th {\n",
              "        vertical-align: top;\n",
              "    }\n",
              "\n",
              "    .dataframe thead th {\n",
              "        text-align: right;\n",
              "    }\n",
              "</style>\n",
              "<table border=\"1\" class=\"dataframe\">\n",
              "  <thead>\n",
              "    <tr style=\"text-align: right;\">\n",
              "      <th></th>\n",
              "      <th>area</th>\n",
              "      <th>pop</th>\n",
              "      <th>density</th>\n",
              "    </tr>\n",
              "  </thead>\n",
              "  <tbody>\n",
              "    <tr>\n",
              "      <th>California</th>\n",
              "      <td>423967</td>\n",
              "      <td>38332521</td>\n",
              "      <td>0.011060</td>\n",
              "    </tr>\n",
              "    <tr>\n",
              "      <th>Texas</th>\n",
              "      <td>695662</td>\n",
              "      <td>26448193</td>\n",
              "      <td>0.026303</td>\n",
              "    </tr>\n",
              "    <tr>\n",
              "      <th>New York</th>\n",
              "      <td>141297</td>\n",
              "      <td>19651127</td>\n",
              "      <td>0.007190</td>\n",
              "    </tr>\n",
              "    <tr>\n",
              "      <th>Florida</th>\n",
              "      <td>170312</td>\n",
              "      <td>19552860</td>\n",
              "      <td>0.008710</td>\n",
              "    </tr>\n",
              "    <tr>\n",
              "      <th>Illinois</th>\n",
              "      <td>149995</td>\n",
              "      <td>12882135</td>\n",
              "      <td>0.011644</td>\n",
              "    </tr>\n",
              "  </tbody>\n",
              "</table>\n",
              "</div>"
            ],
            "text/plain": [
              "              area       pop   density\n",
              "California  423967  38332521  0.011060\n",
              "Texas       695662  26448193  0.026303\n",
              "New York    141297  19651127  0.007190\n",
              "Florida     170312  19552860  0.008710\n",
              "Illinois    149995  12882135  0.011644"
            ]
          },
          "metadata": {},
          "execution_count": 95
        }
      ]
    },
    {
      "cell_type": "code",
      "metadata": {
        "colab": {
          "base_uri": "https://localhost:8080/"
        },
        "id": "Ny86v7NX0N5d",
        "outputId": "5e44f085-3817-4142-d56f-af39b91408d1"
      },
      "source": [
        "data.values #gives the 2d array"
      ],
      "execution_count": null,
      "outputs": [
        {
          "output_type": "execute_result",
          "data": {
            "text/plain": [
              "array([[4.23967000e+05, 3.83325210e+07, 1.10602431e-02],\n",
              "       [6.95662000e+05, 2.64481930e+07, 2.63028177e-02],\n",
              "       [1.41297000e+05, 1.96511270e+07, 7.19027463e-03],\n",
              "       [1.70312000e+05, 1.95528600e+07, 8.71033700e-03],\n",
              "       [1.49995000e+05, 1.28821350e+07, 1.16436445e-02]])"
            ]
          },
          "metadata": {},
          "execution_count": 96
        }
      ]
    },
    {
      "cell_type": "code",
      "metadata": {
        "colab": {
          "base_uri": "https://localhost:8080/",
          "height": 204
        },
        "id": "DR5POHKS04SZ",
        "outputId": "e3fae559-5ff0-4973-e3b4-4c880f804f32"
      },
      "source": [
        "data"
      ],
      "execution_count": null,
      "outputs": [
        {
          "output_type": "execute_result",
          "data": {
            "text/html": [
              "<div>\n",
              "<style scoped>\n",
              "    .dataframe tbody tr th:only-of-type {\n",
              "        vertical-align: middle;\n",
              "    }\n",
              "\n",
              "    .dataframe tbody tr th {\n",
              "        vertical-align: top;\n",
              "    }\n",
              "\n",
              "    .dataframe thead th {\n",
              "        text-align: right;\n",
              "    }\n",
              "</style>\n",
              "<table border=\"1\" class=\"dataframe\">\n",
              "  <thead>\n",
              "    <tr style=\"text-align: right;\">\n",
              "      <th></th>\n",
              "      <th>area</th>\n",
              "      <th>pop</th>\n",
              "      <th>density</th>\n",
              "    </tr>\n",
              "  </thead>\n",
              "  <tbody>\n",
              "    <tr>\n",
              "      <th>California</th>\n",
              "      <td>423967</td>\n",
              "      <td>38332521</td>\n",
              "      <td>0.011060</td>\n",
              "    </tr>\n",
              "    <tr>\n",
              "      <th>Texas</th>\n",
              "      <td>695662</td>\n",
              "      <td>26448193</td>\n",
              "      <td>0.026303</td>\n",
              "    </tr>\n",
              "    <tr>\n",
              "      <th>New York</th>\n",
              "      <td>141297</td>\n",
              "      <td>19651127</td>\n",
              "      <td>0.007190</td>\n",
              "    </tr>\n",
              "    <tr>\n",
              "      <th>Florida</th>\n",
              "      <td>170312</td>\n",
              "      <td>19552860</td>\n",
              "      <td>0.008710</td>\n",
              "    </tr>\n",
              "    <tr>\n",
              "      <th>Illinois</th>\n",
              "      <td>149995</td>\n",
              "      <td>12882135</td>\n",
              "      <td>0.011644</td>\n",
              "    </tr>\n",
              "  </tbody>\n",
              "</table>\n",
              "</div>"
            ],
            "text/plain": [
              "              area       pop   density\n",
              "California  423967  38332521  0.011060\n",
              "Texas       695662  26448193  0.026303\n",
              "New York    141297  19651127  0.007190\n",
              "Florida     170312  19552860  0.008710\n",
              "Illinois    149995  12882135  0.011644"
            ]
          },
          "metadata": {},
          "execution_count": 97
        }
      ]
    },
    {
      "cell_type": "code",
      "metadata": {
        "colab": {
          "base_uri": "https://localhost:8080/",
          "height": 142
        },
        "id": "BM41LQQZ07k2",
        "outputId": "39591e5c-cf6a-471f-a8ca-61904e827e34"
      },
      "source": [
        "data.T"
      ],
      "execution_count": null,
      "outputs": [
        {
          "output_type": "execute_result",
          "data": {
            "text/html": [
              "<div>\n",
              "<style scoped>\n",
              "    .dataframe tbody tr th:only-of-type {\n",
              "        vertical-align: middle;\n",
              "    }\n",
              "\n",
              "    .dataframe tbody tr th {\n",
              "        vertical-align: top;\n",
              "    }\n",
              "\n",
              "    .dataframe thead th {\n",
              "        text-align: right;\n",
              "    }\n",
              "</style>\n",
              "<table border=\"1\" class=\"dataframe\">\n",
              "  <thead>\n",
              "    <tr style=\"text-align: right;\">\n",
              "      <th></th>\n",
              "      <th>California</th>\n",
              "      <th>Texas</th>\n",
              "      <th>New York</th>\n",
              "      <th>Florida</th>\n",
              "      <th>Illinois</th>\n",
              "    </tr>\n",
              "  </thead>\n",
              "  <tbody>\n",
              "    <tr>\n",
              "      <th>area</th>\n",
              "      <td>4.239670e+05</td>\n",
              "      <td>6.956620e+05</td>\n",
              "      <td>1.412970e+05</td>\n",
              "      <td>1.703120e+05</td>\n",
              "      <td>1.499950e+05</td>\n",
              "    </tr>\n",
              "    <tr>\n",
              "      <th>pop</th>\n",
              "      <td>3.833252e+07</td>\n",
              "      <td>2.644819e+07</td>\n",
              "      <td>1.965113e+07</td>\n",
              "      <td>1.955286e+07</td>\n",
              "      <td>1.288214e+07</td>\n",
              "    </tr>\n",
              "    <tr>\n",
              "      <th>density</th>\n",
              "      <td>1.106024e-02</td>\n",
              "      <td>2.630282e-02</td>\n",
              "      <td>7.190275e-03</td>\n",
              "      <td>8.710337e-03</td>\n",
              "      <td>1.164364e-02</td>\n",
              "    </tr>\n",
              "  </tbody>\n",
              "</table>\n",
              "</div>"
            ],
            "text/plain": [
              "           California         Texas      New York       Florida      Illinois\n",
              "area     4.239670e+05  6.956620e+05  1.412970e+05  1.703120e+05  1.499950e+05\n",
              "pop      3.833252e+07  2.644819e+07  1.965113e+07  1.955286e+07  1.288214e+07\n",
              "density  1.106024e-02  2.630282e-02  7.190275e-03  8.710337e-03  1.164364e-02"
            ]
          },
          "metadata": {},
          "execution_count": 98
        }
      ]
    },
    {
      "cell_type": "code",
      "metadata": {
        "colab": {
          "base_uri": "https://localhost:8080/"
        },
        "id": "A7i8lbTN08_0",
        "outputId": "05f7b98b-60ff-44a9-85ad-e975b82c2540"
      },
      "source": [
        "data.values"
      ],
      "execution_count": null,
      "outputs": [
        {
          "output_type": "execute_result",
          "data": {
            "text/plain": [
              "array([[4.23967000e+05, 3.83325210e+07, 1.10602431e-02],\n",
              "       [6.95662000e+05, 2.64481930e+07, 2.63028177e-02],\n",
              "       [1.41297000e+05, 1.96511270e+07, 7.19027463e-03],\n",
              "       [1.70312000e+05, 1.95528600e+07, 8.71033700e-03],\n",
              "       [1.49995000e+05, 1.28821350e+07, 1.16436445e-02]])"
            ]
          },
          "metadata": {},
          "execution_count": 99
        }
      ]
    },
    {
      "cell_type": "code",
      "metadata": {
        "colab": {
          "base_uri": "https://localhost:8080/"
        },
        "id": "pld1kg0M1L3p",
        "outputId": "5b3fcd9e-2aa3-4af1-a311-cfd2a6d63dc8"
      },
      "source": [
        "data.values[0]"
      ],
      "execution_count": null,
      "outputs": [
        {
          "output_type": "execute_result",
          "data": {
            "text/plain": [
              "array([4.23967000e+05, 3.83325210e+07, 1.10602431e-02])"
            ]
          },
          "metadata": {},
          "execution_count": 100
        }
      ]
    },
    {
      "cell_type": "code",
      "metadata": {
        "colab": {
          "base_uri": "https://localhost:8080/",
          "height": 111
        },
        "id": "LhtalPDj1O-6",
        "outputId": "5ef668fa-7b96-4ed6-9a2f-f93aa47807d6"
      },
      "source": [
        "data.iloc[:2, :3]"
      ],
      "execution_count": null,
      "outputs": [
        {
          "output_type": "execute_result",
          "data": {
            "text/html": [
              "<div>\n",
              "<style scoped>\n",
              "    .dataframe tbody tr th:only-of-type {\n",
              "        vertical-align: middle;\n",
              "    }\n",
              "\n",
              "    .dataframe tbody tr th {\n",
              "        vertical-align: top;\n",
              "    }\n",
              "\n",
              "    .dataframe thead th {\n",
              "        text-align: right;\n",
              "    }\n",
              "</style>\n",
              "<table border=\"1\" class=\"dataframe\">\n",
              "  <thead>\n",
              "    <tr style=\"text-align: right;\">\n",
              "      <th></th>\n",
              "      <th>area</th>\n",
              "      <th>pop</th>\n",
              "      <th>density</th>\n",
              "    </tr>\n",
              "  </thead>\n",
              "  <tbody>\n",
              "    <tr>\n",
              "      <th>California</th>\n",
              "      <td>423967</td>\n",
              "      <td>38332521</td>\n",
              "      <td>0.011060</td>\n",
              "    </tr>\n",
              "    <tr>\n",
              "      <th>Texas</th>\n",
              "      <td>695662</td>\n",
              "      <td>26448193</td>\n",
              "      <td>0.026303</td>\n",
              "    </tr>\n",
              "  </tbody>\n",
              "</table>\n",
              "</div>"
            ],
            "text/plain": [
              "              area       pop   density\n",
              "California  423967  38332521  0.011060\n",
              "Texas       695662  26448193  0.026303"
            ]
          },
          "metadata": {},
          "execution_count": 101
        }
      ]
    },
    {
      "cell_type": "code",
      "metadata": {
        "colab": {
          "base_uri": "https://localhost:8080/",
          "height": 204
        },
        "id": "K_QXqJmU2HKc",
        "outputId": "50e980d2-900e-47da-f634-e11b43c29774"
      },
      "source": [
        "data"
      ],
      "execution_count": null,
      "outputs": [
        {
          "output_type": "execute_result",
          "data": {
            "text/html": [
              "<div>\n",
              "<style scoped>\n",
              "    .dataframe tbody tr th:only-of-type {\n",
              "        vertical-align: middle;\n",
              "    }\n",
              "\n",
              "    .dataframe tbody tr th {\n",
              "        vertical-align: top;\n",
              "    }\n",
              "\n",
              "    .dataframe thead th {\n",
              "        text-align: right;\n",
              "    }\n",
              "</style>\n",
              "<table border=\"1\" class=\"dataframe\">\n",
              "  <thead>\n",
              "    <tr style=\"text-align: right;\">\n",
              "      <th></th>\n",
              "      <th>area</th>\n",
              "      <th>pop</th>\n",
              "      <th>density</th>\n",
              "    </tr>\n",
              "  </thead>\n",
              "  <tbody>\n",
              "    <tr>\n",
              "      <th>California</th>\n",
              "      <td>423967</td>\n",
              "      <td>38332521</td>\n",
              "      <td>0.011060</td>\n",
              "    </tr>\n",
              "    <tr>\n",
              "      <th>Texas</th>\n",
              "      <td>695662</td>\n",
              "      <td>26448193</td>\n",
              "      <td>0.026303</td>\n",
              "    </tr>\n",
              "    <tr>\n",
              "      <th>New York</th>\n",
              "      <td>141297</td>\n",
              "      <td>19651127</td>\n",
              "      <td>0.007190</td>\n",
              "    </tr>\n",
              "    <tr>\n",
              "      <th>Florida</th>\n",
              "      <td>170312</td>\n",
              "      <td>19552860</td>\n",
              "      <td>0.008710</td>\n",
              "    </tr>\n",
              "    <tr>\n",
              "      <th>Illinois</th>\n",
              "      <td>149995</td>\n",
              "      <td>12882135</td>\n",
              "      <td>0.011644</td>\n",
              "    </tr>\n",
              "  </tbody>\n",
              "</table>\n",
              "</div>"
            ],
            "text/plain": [
              "              area       pop   density\n",
              "California  423967  38332521  0.011060\n",
              "Texas       695662  26448193  0.026303\n",
              "New York    141297  19651127  0.007190\n",
              "Florida     170312  19552860  0.008710\n",
              "Illinois    149995  12882135  0.011644"
            ]
          },
          "metadata": {},
          "execution_count": 102
        }
      ]
    },
    {
      "cell_type": "code",
      "metadata": {
        "colab": {
          "base_uri": "https://localhost:8080/",
          "height": 142
        },
        "id": "X_iz9WlZ1-yJ",
        "outputId": "eeeaef7d-df08-48f0-bedb-364bc9710ac0"
      },
      "source": [
        "data.loc[data['density']>0.0100]"
      ],
      "execution_count": null,
      "outputs": [
        {
          "output_type": "execute_result",
          "data": {
            "text/html": [
              "<div>\n",
              "<style scoped>\n",
              "    .dataframe tbody tr th:only-of-type {\n",
              "        vertical-align: middle;\n",
              "    }\n",
              "\n",
              "    .dataframe tbody tr th {\n",
              "        vertical-align: top;\n",
              "    }\n",
              "\n",
              "    .dataframe thead th {\n",
              "        text-align: right;\n",
              "    }\n",
              "</style>\n",
              "<table border=\"1\" class=\"dataframe\">\n",
              "  <thead>\n",
              "    <tr style=\"text-align: right;\">\n",
              "      <th></th>\n",
              "      <th>area</th>\n",
              "      <th>pop</th>\n",
              "      <th>density</th>\n",
              "    </tr>\n",
              "  </thead>\n",
              "  <tbody>\n",
              "    <tr>\n",
              "      <th>California</th>\n",
              "      <td>423967</td>\n",
              "      <td>38332521</td>\n",
              "      <td>0.011060</td>\n",
              "    </tr>\n",
              "    <tr>\n",
              "      <th>Texas</th>\n",
              "      <td>695662</td>\n",
              "      <td>26448193</td>\n",
              "      <td>0.026303</td>\n",
              "    </tr>\n",
              "    <tr>\n",
              "      <th>Illinois</th>\n",
              "      <td>149995</td>\n",
              "      <td>12882135</td>\n",
              "      <td>0.011644</td>\n",
              "    </tr>\n",
              "  </tbody>\n",
              "</table>\n",
              "</div>"
            ],
            "text/plain": [
              "              area       pop   density\n",
              "California  423967  38332521  0.011060\n",
              "Texas       695662  26448193  0.026303\n",
              "Illinois    149995  12882135  0.011644"
            ]
          },
          "metadata": {},
          "execution_count": 103
        }
      ]
    },
    {
      "cell_type": "code",
      "metadata": {
        "colab": {
          "base_uri": "https://localhost:8080/",
          "height": 204
        },
        "id": "FNfEZJ322WPB",
        "outputId": "94e97a0a-d0d8-4fcf-caff-53c0affeed65"
      },
      "source": [
        "data.iloc[0,1] = 12345\n",
        "data"
      ],
      "execution_count": null,
      "outputs": [
        {
          "output_type": "execute_result",
          "data": {
            "text/html": [
              "<div>\n",
              "<style scoped>\n",
              "    .dataframe tbody tr th:only-of-type {\n",
              "        vertical-align: middle;\n",
              "    }\n",
              "\n",
              "    .dataframe tbody tr th {\n",
              "        vertical-align: top;\n",
              "    }\n",
              "\n",
              "    .dataframe thead th {\n",
              "        text-align: right;\n",
              "    }\n",
              "</style>\n",
              "<table border=\"1\" class=\"dataframe\">\n",
              "  <thead>\n",
              "    <tr style=\"text-align: right;\">\n",
              "      <th></th>\n",
              "      <th>area</th>\n",
              "      <th>pop</th>\n",
              "      <th>density</th>\n",
              "    </tr>\n",
              "  </thead>\n",
              "  <tbody>\n",
              "    <tr>\n",
              "      <th>California</th>\n",
              "      <td>423967</td>\n",
              "      <td>12345</td>\n",
              "      <td>0.011060</td>\n",
              "    </tr>\n",
              "    <tr>\n",
              "      <th>Texas</th>\n",
              "      <td>695662</td>\n",
              "      <td>26448193</td>\n",
              "      <td>0.026303</td>\n",
              "    </tr>\n",
              "    <tr>\n",
              "      <th>New York</th>\n",
              "      <td>141297</td>\n",
              "      <td>19651127</td>\n",
              "      <td>0.007190</td>\n",
              "    </tr>\n",
              "    <tr>\n",
              "      <th>Florida</th>\n",
              "      <td>170312</td>\n",
              "      <td>19552860</td>\n",
              "      <td>0.008710</td>\n",
              "    </tr>\n",
              "    <tr>\n",
              "      <th>Illinois</th>\n",
              "      <td>149995</td>\n",
              "      <td>12882135</td>\n",
              "      <td>0.011644</td>\n",
              "    </tr>\n",
              "  </tbody>\n",
              "</table>\n",
              "</div>"
            ],
            "text/plain": [
              "              area       pop   density\n",
              "California  423967     12345  0.011060\n",
              "Texas       695662  26448193  0.026303\n",
              "New York    141297  19651127  0.007190\n",
              "Florida     170312  19552860  0.008710\n",
              "Illinois    149995  12882135  0.011644"
            ]
          },
          "metadata": {},
          "execution_count": 105
        }
      ]
    },
    {
      "cell_type": "code",
      "metadata": {
        "id": "vUPofiaV2hBI"
      },
      "source": [
        "# while indexing refers to columns, slicing refers to rows"
      ],
      "execution_count": null,
      "outputs": []
    },
    {
      "cell_type": "code",
      "metadata": {
        "colab": {
          "base_uri": "https://localhost:8080/",
          "height": 111
        },
        "id": "-dVQpxLf23Hr",
        "outputId": "e6c482da-a698-4d81-e3e7-31cd0e0b9538"
      },
      "source": [
        "data['California':'Texas']"
      ],
      "execution_count": null,
      "outputs": [
        {
          "output_type": "execute_result",
          "data": {
            "text/html": [
              "<div>\n",
              "<style scoped>\n",
              "    .dataframe tbody tr th:only-of-type {\n",
              "        vertical-align: middle;\n",
              "    }\n",
              "\n",
              "    .dataframe tbody tr th {\n",
              "        vertical-align: top;\n",
              "    }\n",
              "\n",
              "    .dataframe thead th {\n",
              "        text-align: right;\n",
              "    }\n",
              "</style>\n",
              "<table border=\"1\" class=\"dataframe\">\n",
              "  <thead>\n",
              "    <tr style=\"text-align: right;\">\n",
              "      <th></th>\n",
              "      <th>area</th>\n",
              "      <th>pop</th>\n",
              "      <th>density</th>\n",
              "    </tr>\n",
              "  </thead>\n",
              "  <tbody>\n",
              "    <tr>\n",
              "      <th>California</th>\n",
              "      <td>423967</td>\n",
              "      <td>12345</td>\n",
              "      <td>0.011060</td>\n",
              "    </tr>\n",
              "    <tr>\n",
              "      <th>Texas</th>\n",
              "      <td>695662</td>\n",
              "      <td>26448193</td>\n",
              "      <td>0.026303</td>\n",
              "    </tr>\n",
              "  </tbody>\n",
              "</table>\n",
              "</div>"
            ],
            "text/plain": [
              "              area       pop   density\n",
              "California  423967     12345  0.011060\n",
              "Texas       695662  26448193  0.026303"
            ]
          },
          "metadata": {},
          "execution_count": 109
        }
      ]
    },
    {
      "cell_type": "code",
      "metadata": {
        "colab": {
          "base_uri": "https://localhost:8080/",
          "height": 111
        },
        "id": "Hbp5OZ3b3BbZ",
        "outputId": "b4c3d8bf-1364-471c-bfd2-01e0d7716996"
      },
      "source": [
        "data[1:3]"
      ],
      "execution_count": null,
      "outputs": [
        {
          "output_type": "execute_result",
          "data": {
            "text/html": [
              "<div>\n",
              "<style scoped>\n",
              "    .dataframe tbody tr th:only-of-type {\n",
              "        vertical-align: middle;\n",
              "    }\n",
              "\n",
              "    .dataframe tbody tr th {\n",
              "        vertical-align: top;\n",
              "    }\n",
              "\n",
              "    .dataframe thead th {\n",
              "        text-align: right;\n",
              "    }\n",
              "</style>\n",
              "<table border=\"1\" class=\"dataframe\">\n",
              "  <thead>\n",
              "    <tr style=\"text-align: right;\">\n",
              "      <th></th>\n",
              "      <th>area</th>\n",
              "      <th>pop</th>\n",
              "      <th>density</th>\n",
              "    </tr>\n",
              "  </thead>\n",
              "  <tbody>\n",
              "    <tr>\n",
              "      <th>Texas</th>\n",
              "      <td>695662</td>\n",
              "      <td>26448193</td>\n",
              "      <td>0.026303</td>\n",
              "    </tr>\n",
              "    <tr>\n",
              "      <th>New York</th>\n",
              "      <td>141297</td>\n",
              "      <td>19651127</td>\n",
              "      <td>0.007190</td>\n",
              "    </tr>\n",
              "  </tbody>\n",
              "</table>\n",
              "</div>"
            ],
            "text/plain": [
              "            area       pop   density\n",
              "Texas     695662  26448193  0.026303\n",
              "New York  141297  19651127  0.007190"
            ]
          },
          "metadata": {},
          "execution_count": 112
        }
      ]
    },
    {
      "cell_type": "code",
      "metadata": {
        "id": "ThPDnsw-3EW6"
      },
      "source": [
        "import numpy.random as random"
      ],
      "execution_count": null,
      "outputs": []
    },
    {
      "cell_type": "code",
      "metadata": {
        "colab": {
          "base_uri": "https://localhost:8080/"
        },
        "id": "6kPrhF9B48h7",
        "outputId": "9f16d0d0-710c-4e55-e501-4fab29655326"
      },
      "source": [
        "ser = pd.Series(random.randint(0,10,4))\n",
        "ser"
      ],
      "execution_count": null,
      "outputs": [
        {
          "output_type": "execute_result",
          "data": {
            "text/plain": [
              "0    3\n",
              "1    5\n",
              "2    9\n",
              "3    5\n",
              "dtype: int64"
            ]
          },
          "metadata": {},
          "execution_count": 118
        }
      ]
    },
    {
      "cell_type": "code",
      "metadata": {
        "colab": {
          "base_uri": "https://localhost:8080/",
          "height": 142
        },
        "id": "BzPkWubF5GKI",
        "outputId": "b0f40557-9555-4517-aa72-ba08e737fc2e"
      },
      "source": [
        "df = pd.DataFrame(random.randint(1,10, (3,4)), columns=('A', 'B', 'C', 'D'))\n",
        "df"
      ],
      "execution_count": null,
      "outputs": [
        {
          "output_type": "execute_result",
          "data": {
            "text/html": [
              "<div>\n",
              "<style scoped>\n",
              "    .dataframe tbody tr th:only-of-type {\n",
              "        vertical-align: middle;\n",
              "    }\n",
              "\n",
              "    .dataframe tbody tr th {\n",
              "        vertical-align: top;\n",
              "    }\n",
              "\n",
              "    .dataframe thead th {\n",
              "        text-align: right;\n",
              "    }\n",
              "</style>\n",
              "<table border=\"1\" class=\"dataframe\">\n",
              "  <thead>\n",
              "    <tr style=\"text-align: right;\">\n",
              "      <th></th>\n",
              "      <th>A</th>\n",
              "      <th>B</th>\n",
              "      <th>C</th>\n",
              "      <th>D</th>\n",
              "    </tr>\n",
              "  </thead>\n",
              "  <tbody>\n",
              "    <tr>\n",
              "      <th>0</th>\n",
              "      <td>7</td>\n",
              "      <td>9</td>\n",
              "      <td>1</td>\n",
              "      <td>6</td>\n",
              "    </tr>\n",
              "    <tr>\n",
              "      <th>1</th>\n",
              "      <td>5</td>\n",
              "      <td>2</td>\n",
              "      <td>4</td>\n",
              "      <td>7</td>\n",
              "    </tr>\n",
              "    <tr>\n",
              "      <th>2</th>\n",
              "      <td>5</td>\n",
              "      <td>9</td>\n",
              "      <td>6</td>\n",
              "      <td>2</td>\n",
              "    </tr>\n",
              "  </tbody>\n",
              "</table>\n",
              "</div>"
            ],
            "text/plain": [
              "   A  B  C  D\n",
              "0  7  9  1  6\n",
              "1  5  2  4  7\n",
              "2  5  9  6  2"
            ]
          },
          "metadata": {},
          "execution_count": 123
        }
      ]
    },
    {
      "cell_type": "code",
      "metadata": {
        "id": "Ah8ndAW95cyf"
      },
      "source": [
        "area = pd.Series({'Alaska': 1723337, 'Texas': 695662,\n",
        "                  'California': 423967}, name='area')\n",
        "population = pd.Series({'California': 38332521, 'Texas': 26448193,\n",
        "                        'New York': 19651127}, name='population')"
      ],
      "execution_count": null,
      "outputs": []
    },
    {
      "cell_type": "code",
      "metadata": {
        "colab": {
          "base_uri": "https://localhost:8080/"
        },
        "id": "9px7MfOCA7Hc",
        "outputId": "78414544-607c-4b74-8c7b-3b4cf10b8d45"
      },
      "source": [
        "population/area"
      ],
      "execution_count": null,
      "outputs": [
        {
          "output_type": "execute_result",
          "data": {
            "text/plain": [
              "Alaska              NaN\n",
              "California    90.413926\n",
              "New York            NaN\n",
              "Texas         38.018740\n",
              "dtype: float64"
            ]
          },
          "metadata": {},
          "execution_count": 126
        }
      ]
    },
    {
      "cell_type": "code",
      "metadata": {
        "id": "1Q1F2UCFBB7u"
      },
      "source": [
        "index = [('California', 2000), ('California', 2010),\n",
        "         ('New York', 2000), ('New York', 2010),\n",
        "         ('Texas', 2000), ('Texas', 2010)]\n",
        "populations = [33871648, 37253956,\n",
        "               18976457, 19378102,\n",
        "               20851820, 25145561]\n"
      ],
      "execution_count": null,
      "outputs": []
    },
    {
      "cell_type": "code",
      "metadata": {
        "colab": {
          "base_uri": "https://localhost:8080/"
        },
        "id": "xxK1auVlFls_",
        "outputId": "85d0f80b-7baf-4699-fb1f-d61385907d71"
      },
      "source": [
        "pop = pd.Series(populations, index=index)\n",
        "pop"
      ],
      "execution_count": null,
      "outputs": [
        {
          "output_type": "execute_result",
          "data": {
            "text/plain": [
              "(California, 2000)    33871648\n",
              "(California, 2010)    37253956\n",
              "(New York, 2000)      18976457\n",
              "(New York, 2010)      19378102\n",
              "(Texas, 2000)         20851820\n",
              "(Texas, 2010)         25145561\n",
              "dtype: int64"
            ]
          },
          "metadata": {},
          "execution_count": 130
        }
      ]
    },
    {
      "cell_type": "code",
      "metadata": {
        "colab": {
          "base_uri": "https://localhost:8080/"
        },
        "id": "6S0j0PY3FviG",
        "outputId": "8b8d37c6-cdd2-44cd-c343-fe0ddd0b14f8"
      },
      "source": [
        "index = pd.MultiIndex.from_tuples(index)\n",
        "index"
      ],
      "execution_count": null,
      "outputs": [
        {
          "output_type": "execute_result",
          "data": {
            "text/plain": [
              "MultiIndex([('California', 2000),\n",
              "            ('California', 2010),\n",
              "            (  'New York', 2000),\n",
              "            (  'New York', 2010),\n",
              "            (     'Texas', 2000),\n",
              "            (     'Texas', 2010)],\n",
              "           )"
            ]
          },
          "metadata": {},
          "execution_count": 132
        }
      ]
    },
    {
      "cell_type": "code",
      "metadata": {
        "colab": {
          "base_uri": "https://localhost:8080/"
        },
        "id": "jITLsv--FtUK",
        "outputId": "029f4504-5662-4a6a-bf2a-758c0f9a065e"
      },
      "source": [
        "pop = pop.reindex(index)\n",
        "pop"
      ],
      "execution_count": null,
      "outputs": [
        {
          "output_type": "execute_result",
          "data": {
            "text/plain": [
              "California  2000    33871648\n",
              "            2010    37253956\n",
              "New York    2000    18976457\n",
              "            2010    19378102\n",
              "Texas       2000    20851820\n",
              "            2010    25145561\n",
              "dtype: int64"
            ]
          },
          "metadata": {},
          "execution_count": 135
        }
      ]
    },
    {
      "cell_type": "code",
      "metadata": {
        "id": "H4rnwe7YHuey"
      },
      "source": [
        ""
      ],
      "execution_count": null,
      "outputs": []
    },
    {
      "cell_type": "code",
      "metadata": {
        "colab": {
          "base_uri": "https://localhost:8080/"
        },
        "id": "pxaBT5inGSVo",
        "outputId": "67e93bcb-aa38-4ac6-c01c-1ebad92037fa"
      },
      "source": [
        "pop['California']"
      ],
      "execution_count": null,
      "outputs": [
        {
          "output_type": "execute_result",
          "data": {
            "text/plain": [
              "2000    33871648\n",
              "2010    37253956\n",
              "dtype: int64"
            ]
          },
          "metadata": {},
          "execution_count": 141
        }
      ]
    },
    {
      "cell_type": "code",
      "metadata": {
        "colab": {
          "base_uri": "https://localhost:8080/",
          "height": 143
        },
        "id": "_hXg8-55Hy-m",
        "outputId": "d56ba724-3c82-4c25-ca5f-3af6f0a82a0f"
      },
      "source": [
        "pop_df = pop.unstack()\n",
        "pop_df"
      ],
      "execution_count": null,
      "outputs": [
        {
          "output_type": "execute_result",
          "data": {
            "text/html": [
              "<div>\n",
              "<style scoped>\n",
              "    .dataframe tbody tr th:only-of-type {\n",
              "        vertical-align: middle;\n",
              "    }\n",
              "\n",
              "    .dataframe tbody tr th {\n",
              "        vertical-align: top;\n",
              "    }\n",
              "\n",
              "    .dataframe thead th {\n",
              "        text-align: right;\n",
              "    }\n",
              "</style>\n",
              "<table border=\"1\" class=\"dataframe\">\n",
              "  <thead>\n",
              "    <tr style=\"text-align: right;\">\n",
              "      <th></th>\n",
              "      <th>2000</th>\n",
              "      <th>2010</th>\n",
              "    </tr>\n",
              "  </thead>\n",
              "  <tbody>\n",
              "    <tr>\n",
              "      <th>California</th>\n",
              "      <td>33871648</td>\n",
              "      <td>37253956</td>\n",
              "    </tr>\n",
              "    <tr>\n",
              "      <th>New York</th>\n",
              "      <td>18976457</td>\n",
              "      <td>19378102</td>\n",
              "    </tr>\n",
              "    <tr>\n",
              "      <th>Texas</th>\n",
              "      <td>20851820</td>\n",
              "      <td>25145561</td>\n",
              "    </tr>\n",
              "  </tbody>\n",
              "</table>\n",
              "</div>"
            ],
            "text/plain": [
              "                2000      2010\n",
              "California  33871648  37253956\n",
              "New York    18976457  19378102\n",
              "Texas       20851820  25145561"
            ]
          },
          "metadata": {},
          "execution_count": 143
        }
      ]
    },
    {
      "cell_type": "code",
      "metadata": {
        "colab": {
          "base_uri": "https://localhost:8080/"
        },
        "id": "JEUWBM8XH3Le",
        "outputId": "17731842-c386-4abe-c027-3f34af4fcce0"
      },
      "source": [
        "pop_df[2000]"
      ],
      "execution_count": null,
      "outputs": [
        {
          "output_type": "execute_result",
          "data": {
            "text/plain": [
              "California    33871648\n",
              "New York      18976457\n",
              "Texas         20851820\n",
              "Name: 2000, dtype: int64"
            ]
          },
          "metadata": {},
          "execution_count": 145
        }
      ]
    },
    {
      "cell_type": "code",
      "metadata": {
        "colab": {
          "base_uri": "https://localhost:8080/",
          "height": 265
        },
        "id": "9rDju93DWSNs",
        "outputId": "d4d5d2fb-5b57-47b4-d127-ae9838634fa5"
      },
      "source": [
        "import matplotlib.pyplot as plt\n",
        "\n",
        "x = np.linspace(0, 10, 30)\n",
        "\n",
        "plt.plot(x, np.sin(x))\n",
        "plt.plot(x, np.cos(x))\n",
        "\n",
        "plt.show()"
      ],
      "execution_count": null,
      "outputs": [
        {
          "output_type": "display_data",
          "data": {
            "image/png": "[encoded data removed]",
            "text/plain": [
              "<Figure size 432x288 with 1 Axes>"
            ]
          },
          "metadata": {
            "needs_background": "light"
          }
        }
      ]
    },
    {
      "cell_type": "code",
      "metadata": {
        "colab": {
          "base_uri": "https://localhost:8080/",
          "height": 282
        },
        "id": "hQNH2vjRXJBs",
        "outputId": "c84aa2aa-f9f1-4245-89a1-4dd00dab1270"
      },
      "source": [
        "plt.figure()\n",
        "\n",
        "plt.subplot(2,1,1)\n",
        "plt.plot(x, np.sin(x), '-o')\n",
        "\n",
        "plt.subplot(2,1,2)\n",
        "plt.plot(x, np.cos(x),'--')\n"
      ],
      "execution_count": null,
      "outputs": [
        {
          "output_type": "execute_result",
          "data": {
            "text/plain": [
              "[<matplotlib.lines.Line2D at 0x7ff3ccb64210>]"
            ]
          },
          "metadata": {},
          "execution_count": 168
        },
        {
          "output_type": "display_data",
          "data": {
            "image/png": "[encoded data removed]",
            "text/plain": [
              "<Figure size 432x288 with 2 Axes>"
            ]
          },
          "metadata": {
            "needs_background": "light"
          }
        }
      ]
    },
    {
      "cell_type": "code",
      "metadata": {
        "colab": {
          "base_uri": "https://localhost:8080/",
          "height": 265
        },
        "id": "EdB2wAkTYWFz",
        "outputId": "c23c70eb-1dd4-4d23-955b-15caf96422f4"
      },
      "source": [
        "x = np.linspace(0, 10, 1000)\n",
        "fig, ax = plt.subplots()\n",
        "ax.plot(x, np.sin(x), '-b', label='Sine')\n",
        "ax.plot(x, np.cos(x), '--r', label='Cosine')\n",
        "ax.axis('equal')\n",
        "leg = ax.legend();"
      ],
      "execution_count": null,
      "outputs": [
        {
          "output_type": "display_data",
          "data": {
            "image/png": "[encoded data removed]",
            "text/plain": [
              "<Figure size 432x288 with 1 Axes>"
            ]
          },
          "metadata": {
            "needs_background": "light"
          }
        }
      ]
    },
    {
      "cell_type": "code",
      "metadata": {
        "id": "I1lPmIJlbC5c"
      },
      "source": [
        ""
      ],
      "execution_count": null,
      "outputs": []
    }
  ]
}