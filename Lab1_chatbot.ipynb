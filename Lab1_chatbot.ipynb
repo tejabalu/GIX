{
  "nbformat": 4,
  "nbformat_minor": 0,
  "metadata": {
    "colab": {
      "name": "Lab1_chatbot.ipynb",
      "provenance": [],
      "collapsed_sections": [],
      "include_colab_link": true
    },
    "kernelspec": {
      "name": "python3",
      "display_name": "Python 3"
    }
  },
  "cells": [
    {
      "cell_type": "markdown",
      "metadata": {
        "id": "view-in-github",
        "colab_type": "text"
      },
      "source": [
        "<a href=\"https://colab.research.google.com/github/tejabalu/udub/blob/master/Lab1_chatbot.ipynb\" target=\"_parent\"><img src=\"https://colab.research.google.com/assets/colab-badge.svg\" alt=\"Open In Colab\"/></a>"
      ]
    },
    {
      "cell_type": "markdown",
      "metadata": {
        "id": "HjjWkiHteh-B"
      },
      "source": [
        "# Lab 1: Practicing Python basics\n",
        "\n",
        "This file supplements the  TECHIN 510 [Lab 1](https://sites.google.com/view/technin510au21/labs/lab-1) instuctions and is a template for student submissions.\n",
        "\n",
        "* **Student name:** Teja Balu\n",
        "* **Student id:** 2174009\n"
      ]
    },
    {
      "cell_type": "markdown",
      "metadata": {
        "id": "2UQuCdJ9ifTS"
      },
      "source": [
        "## Step 1: Get started with Colaboratory\n",
        "\n",
        "In this lab we will start practicing Python with Jupyter notebook on Colaboratory, rather than installing Python and Jupyter locally on your computer. Your submission for the lab will be in the form of an .ipynb file which can be created, tested, and shared directly from a Google Drive. Hence we recommend creating a folder in your UW-associated Google drive for working on your labs. Under this folder, create a sub-folder named `lab-1/`. Then copy this file `chatbot.ipynb` into the folder you created, through File > Save a copy in Drive..\n"
      ]
    },
    {
      "cell_type": "markdown",
      "metadata": {
        "id": "7XcsVPX1hfir"
      },
      "source": [
        "## Step 2: Barebones interactive chatbot\n",
        "You will first create a simple interactive loop between user input and program output. Before entering the loop, your program should prompt the user to request their input (e.g. \"Hi, how can I help you?\"). At each iteration of the loop, the program should take user input (typed onto the terminal pressing 'Enter' at the end) and then output simple meta information about that input (e.g. \"You entered X letters and Y words\"). Also add a way to exit the loop; for example, if the user types \"Bye\" the loop should end and your program should halt after a final prompt to the user to acknowledge that the interaction has ended. Add your code below."
      ]
    },
    {
      "cell_type": "code",
      "metadata": {
        "id": "kW7050M6fHI8"
      },
      "source": [
        "## Barebones interactice chatbot\n",
        "\n",
        "# TODO: Implement the described barebones interactive system\n",
        "\n",
        "print('Hi! Please enter a sentence of your linking.')\n",
        "string = input()\n",
        "print('Your sentence has ' + str(len(string)) +' letter(s) and ' + str(len(string.split())) + ' word(s).')\n",
        "print('Your sentence starts with \"' + string[0] + '\" and ends with \"' + string[len(string)-1] + '\".')\n",
        "\n",
        "while string != \"Bye\":\n",
        "  string = input()\n",
        "  print('Your sentence has ' + str(len(string)) +' letter(s) and ' + str(len(string.split())) + ' word(s).')\n",
        "  print('Your sentence starts with \"' + string[0] + '\" and ends with \"' + string[len(string)-1] + '\".')\n",
        "\n",
        "if string == \"Bye\":\n",
        "  print(\"Thanks!\")"
      ],
      "execution_count": null,
      "outputs": []
    },
    {
      "cell_type": "markdown",
      "metadata": {
        "id": "VRgRjjsgiY_S"
      },
      "source": [
        "## Step 3: Simple ListenBot\n",
        "\n",
        "Next you will upgrade your chatbot to be a \"good listener.\" Do not worry about deleting or overwriting things you did in the previous step. Before entering into the interactive loop, your chatbot should ask the user's name and remember it throughout the chat. It should also prompt the user to talk about something (e.g. \"How was your day, Ashitaka?\" As part of the loop, the chatbot should analyze the user's input and decide whether to give a positive, negative, or neutral response. To analyze the input, make a fixed list of [positive](http://ptrckprry.com/course/ssd/data/positive-words.txt) and [negative](http://ptrckprry.com/course/ssd/data/negative-words.txt) words and determine the number of positive and negative words that occur in the user's input. Your list of positive and negative words do not have to be too long, just enough to showcase a simple conversation. Optionally you can download the lists linked above and load them into your program.\n",
        "\n",
        "The chatbot should respond based on the number of positive and negative words in the user's input. Your chatbot should have at least two different responses of each type and should alternate between responses, e.g.:\n",
        "* Positive responses: \"Great\" \"Cool\"\n",
        "* Negative responses: \"That sucks\" \"Bummer\"\n",
        "* Neutral responses: \"Hmm..\" \"I see\"\n",
        "\n",
        "As before, there should be at least one way to end the conversation. You can make the ways to end the conversation known to the user in your earlier prompt or somewhere during the conversation. Add your updated code below.\n"
      ]
    },
    {
      "cell_type": "code",
      "metadata": {
        "id": "8WiupzlgkVLQ"
      },
      "source": [
        "## Simple ListenBot\n",
        "\n",
        "# TODO: Implement ListenBot by extending the barebones interactive chatbot\n",
        "import pandas as pd\n",
        "import random \n",
        "from IPython.display import Javascript\n",
        "\n",
        "sheet_url = \"https://docs.google.com/spreadsheets/d/1ffX7vG1hy8ggXFfhvVSlt7gwl3iFYWv9a3p5Crn0gBk/edit#gid=0\"\n",
        "url = sheet_url.replace(\"/edit#gid=\", \"/export?format=csv&gid=\")\n",
        "words = pd.read_csv(url)\n",
        "Positivelis = words['Positive'].tolist()\n",
        "Negativelis = words['Negative'].tolist()\n",
        "Jokes = words['Jokes'].tolist()\n",
        "\n",
        "def positiveornegative (string):\n",
        "  split = string.split()\n",
        "  positiveornegative.pos = 0\n",
        "  positiveornegative.neg = 0\n",
        "  for x in split:\n",
        "    if x in Positivelis:\n",
        "      positiveornegative.pos = positiveornegative.pos+1\n",
        "    if x in Negativelis:\n",
        "      positiveornegative.neg = positiveornegative.neg+1\n",
        "\n",
        "\n",
        "def open_web(url):\n",
        "    display(Javascript('window.open(\"{url}\");'.format(url=url)))\n",
        "\n",
        "def taskdo(task):\n",
        "  if task == 0:\n",
        "    open_web('https://www.google.com/search?q=coffee+shops')\n",
        "  if task == 1:\n",
        "    open_web('https://www.google.com/maps/dir//University+of+Washington,+Seattle,+WA+98195/@47.6326326,-122.2530264,13z/data=!4m9!4m8!1m0!1m5!1m1!1s0x549014929d8535eb:0x6b742c7901b82ba3!2m2!1d-122.3035199!2d47.6553351!3e3')\n",
        "  if task == 2:\n",
        "    print(Jokes[random.randint(0,2)])\n",
        "\n",
        "print(\"Hi! What is your name?\")\n",
        "name = input()\n",
        "print(\"That's great \" + name + \"! How is your day going?\")\n",
        "string = input()\n",
        "positiveornegative(string)\n",
        "print (positiveornegative.pos, positiveornegative.neg)\n",
        "\n",
        "\n",
        "posresponses = [\"That's great\", \"That's nice\", \"That's amazing\"]\n",
        "negresponses = [\"That's rough buddy\", \"That's a bummer\", \"That sucks\"]\n",
        "neutresponses = [\"Hmm.\", \"Okay.\", \"I see.\"]\n",
        "\n",
        "posresponses1 = [\"Would you like to find some coffee places around?\",\n",
        "                 \"Do you want to explore the UW campus? I can show you the way.\",\n",
        "                 \"Want to listen to a joke?\"]\n",
        "negresponses1 = [\"A coffee might cheer you up. would you like to find some coffee places around?\",\n",
        "                 \"Going to the UW campus might cheer you up. I can show you the way.\",\n",
        "                 \"A joke might cheer you up. Wanna hear one?\"]\n",
        "\n",
        "if positiveornegative.pos>positiveornegative.neg :\n",
        "  print(posresponses[random.randint(0,2)])\n",
        "  task = random.randint(0,2)\n",
        "  print(posresponses1[task])\n",
        "if positiveornegative.neg>positiveornegative.pos :\n",
        "  print(negresponses[random.randint(0,2)])\n",
        "  task = random.randint(0,2)\n",
        "  print(negresponses1[task])\n",
        "if positiveornegative.neg==positiveornegative.pos :\n",
        "  print(neutresponses[random.randint(0,2)])\n",
        "  task = random.randint(0,2)\n",
        "  print(posresponses1[task])\n",
        "string = input()\n",
        "\n",
        "while string != \"Bye\" and string != \"bye\":\n",
        "  # finding a negative or a positive response\n",
        "  positiveornegative(string)\n",
        "  \n",
        "  # chatbot responding\n",
        "  if positiveornegative.pos>positiveornegative.neg :\n",
        "    taskdo(task)\n",
        "    print(\"Hope that was helpful.\")\n",
        "    task = random.randint(0,2)\n",
        "    print(posresponses1[task])\n",
        "  if positiveornegative.neg>positiveornegative.pos :\n",
        "    print(\"Oh.\")\n",
        "    task = random.randint(0,2)\n",
        "    print(posresponses1[task])\n",
        "  if positiveornegative.neg==positiveornegative.pos :\n",
        "    print(\"Oh.\")\n",
        "    task = random.randint(0,2)\n",
        "    print(posresponses1[task])\n",
        "  string = input()\n",
        "\n",
        "if string == \"Bye\" or string == \"bye\":\n",
        "  print(\"Bye! Have a great day!\")\n"
      ],
      "execution_count": null,
      "outputs": []
    },
    {
      "cell_type": "markdown",
      "metadata": {
        "id": "l5q1oLOukjTz"
      },
      "source": [
        "## Step 4: Improved Listenbot\n",
        "\n",
        "Now test your chatbot with a classmate or friend. Based on breakdowns or awkwardness in these tests choose at least one additional improvement and implement it below. Make sure to descibe your improvement in the list below."
      ]
    },
    {
      "cell_type": "code",
      "metadata": {
        "id": "xEh_o5y4lBc3"
      },
      "source": [
        "## Improved ListenBot\n",
        "\n",
        "# TODO: Implement improved ListenBot that addresses at least one breakdown of the original ListenBot\n",
        "# 1. The program was not detecting lower case and upper case words. \n",
        "# 2. The questions that were being asked were repeating even though a random function was used. \n",
        "#     Hence, instead of a random function, the program asks the questions in a fixed sequence. \n",
        "# 3. The program addresses with the name in each sentence. \n",
        "# 4. The program capitalizes the first letter of the name.\n",
        "# 5. Type bye or Bye to end the conversation.\n",
        "\n",
        "\n",
        "import pandas as pd\n",
        "import random \n",
        "from IPython.display import Javascript\n",
        "\n",
        "sheet_url = \"https://docs.google.com/spreadsheets/d/1ffX7vG1hy8ggXFfhvVSlt7gwl3iFYWv9a3p5Crn0gBk/edit#gid=0\"\n",
        "url = sheet_url.replace(\"/edit#gid=\", \"/export?format=csv&gid=\")\n",
        "words = pd.read_csv(url)\n",
        "Positivelis = words['Positive'].tolist()\n",
        "Negativelis = words['Negative'].tolist()\n",
        "Jokes = words['Jokes'].tolist()\n",
        "\n",
        "def positiveornegative (string):\n",
        "  split = string.split()\n",
        "  positiveornegative.pos = 0\n",
        "  positiveornegative.neg = 0\n",
        "  for x in split:\n",
        "    if x in Positivelis:\n",
        "      positiveornegative.pos = positiveornegative.pos+1\n",
        "    if x in Negativelis:\n",
        "      positiveornegative.neg = positiveornegative.neg+1\n",
        "\n",
        "\n",
        "def open_web(url):\n",
        "    display(Javascript('window.open(\"{url}\");'.format(url=url)))\n",
        "\n",
        "def taskdo(task):\n",
        "  if task == 0:\n",
        "    open_web('https://www.google.com/search?q=coffee+shops')\n",
        "  if task == 1:\n",
        "    open_web('https://www.google.com/maps/dir//University+of+Washington,+Seattle,+WA+98195/@47.6326326,-122.2530264,13z/data=!4m9!4m8!1m0!1m5!1m1!1s0x549014929d8535eb:0x6b742c7901b82ba3!2m2!1d-122.3035199!2d47.6553351!3e3')\n",
        "  if task == 2:\n",
        "    print(Jokes[random.randint(0,2)])\n",
        "\n",
        "print(\"Hi! What is your name?\")\n",
        "name = input()\n",
        "name = name.capitalize()\n",
        "print(\"That's great \" + name + \"! How is your day going?\")\n",
        "string = input()\n",
        "string = string.lower()\n",
        "positiveornegative(string)\n",
        "\n",
        "\n",
        "posresponses = [\"That's great\", \"That's nice\", \"That's amazing\"]\n",
        "negresponses = [\"That's rough buddy.\", \"That's a bummer.\", \"That sucks.\"]\n",
        "neutresponses = [\"Hmm.\", \"Okay.\", \"I see.\"]\n",
        "\n",
        "posresponses1 = [\"Would you like to find some coffee places around, \" + name + \"? \",\n",
        "                 \"Do you want to explore the UW campus, \" + name + \"? \" + \"I can show you the way.\",\n",
        "                 \"Want to listen to a joke, \" + name + \"? \"]\n",
        "negresponses1 = [\"A coffee might cheer you up. would you like to find some coffee places around, \" + name + \"? \",\n",
        "                 \"Going to the UW campus might cheer you up \" + name + \". I can show you the way.\",\n",
        "                 \"A joke might cheer you up \" + name + \". Wanna hear one?\"]\n",
        "\n",
        "\n",
        "i=0;\n",
        "\n",
        "if positiveornegative.pos>positiveornegative.neg :\n",
        "  print(posresponses[random.randint(0,2)])\n",
        "  print(posresponses1[i])\n",
        "if positiveornegative.neg>positiveornegative.pos :\n",
        "  print(negresponses[random.randint(0,2)])\n",
        "  print(negresponses1[i])\n",
        "if positiveornegative.neg==positiveornegative.pos :\n",
        "  print(neutresponses[random.randint(0,2)])\n",
        "  print(posresponses1[i])\n",
        "string = input()\n",
        "\n",
        "\n",
        "while string != \"Bye\" and string != \"bye\":\n",
        "  # finding a negative or a positive response\n",
        "  positiveornegative(string)\n",
        "\n",
        "\n",
        "  # chatbot responding\n",
        "  if positiveornegative.pos>positiveornegative.neg :\n",
        "    taskdo(i)\n",
        "    i=i+1  \n",
        "    if i==3:\n",
        "      i=0\n",
        "    print(posresponses[random.randint(0,2)])\n",
        "    print(posresponses1[i])\n",
        "  if positiveornegative.neg>positiveornegative.pos :\n",
        "    i=i+1  \n",
        "    if i==3:\n",
        "      i=0\n",
        "    print(negresponses[random.randint(0,2)])\n",
        "    print(posresponses1[i])\n",
        "  if positiveornegative.neg==positiveornegative.pos :\n",
        "    i=i+1  \n",
        "    if i==3:\n",
        "      i=0\n",
        "    print(neutresponses[random.randint(0,2)])\n",
        "    print(posresponses1[i])\n",
        "    \n",
        "  string = input()\n",
        "  string = string.lower()\n",
        "\n",
        "\n",
        "if string == \"Bye\" or string == \"bye\":\n",
        "  print(\"Bye! Have a great day!\")\n"
      ],
      "execution_count": null,
      "outputs": []
    },
    {
      "cell_type": "markdown",
      "metadata": {
        "id": "js1PgVZqlQ7a"
      },
      "source": [
        "### List of improvements\n",
        "* *TODO: Describe your improvements*\n",
        "1. The program now compares both lower case and upper case responses. \n",
        "2. The program asks the questions in a sequential manner instead of random as the random responses were repeating, which was not a good user experiece. \n",
        "3. The program addresses with the name in each response. \n",
        "4. The program auto-capitalizes the first letter of the name.  \n",
        "5. Type bye or Bye to end the conversation."
      ]
    },
    {
      "cell_type": "markdown",
      "metadata": {
        "id": "gHrOyaM5qCvV"
      },
      "source": [
        "## Step 5: Submit your solution on Canvas\n",
        "\n",
        "Complete this lab by submitting a link to your `chatbot.ipynb` on [Canvas](https://canvas.uw.edu/courses/1332776/assignments/5018721), by Oct 6 Tuesday, 11:59pm. You can obtain this link through Share > Copy Link (with 'Anyone with the link can view' setting). We will test your chatbot with a simple dialog to verify that:\n",
        "\n",
        "* It asks for the user's name and demonstrates that it remembers the name\n",
        "* Responds appropriately to a clearly positive, negative, and neutral statement\n",
        "* Has a way of ending the chat\n",
        "\n",
        "We will inspect the code in addition to the interaction to make sure that an improvement was implemented for Step 4. See Canvas for a grading rubric."
      ]
    },
    {
      "cell_type": "code",
      "metadata": {
        "id": "Zo9WJgsqqflD"
      },
      "source": [
        ""
      ],
      "execution_count": null,
      "outputs": []
    }
  ]
}